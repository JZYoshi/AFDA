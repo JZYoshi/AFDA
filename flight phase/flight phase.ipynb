{
 "cells": [
  {
   "cell_type": "code",
   "execution_count": 38,
   "metadata": {},
   "outputs": [],
   "source": [
    "import pandas as pd\n",
    "import matplotlib.pyplot as plt\n",
    "import numpy as np\n",
    "from openap import FlightPhase"
   ]
  },
  {
   "cell_type": "code",
   "execution_count": 44,
   "metadata": {},
   "outputs": [],
   "source": [
    "m_to_ft = 3.28084\n",
    "m_by_s_to_ft_by_min = 3.28084*60\n",
    "m_by_s_to_kt = 1.94384"
   ]
  },
  {
   "cell_type": "code",
   "execution_count": 45,
   "metadata": {},
   "outputs": [
    {
     "data": {
      "text/html": [
       "<div>\n",
       "<style scoped>\n",
       "    .dataframe tbody tr th:only-of-type {\n",
       "        vertical-align: middle;\n",
       "    }\n",
       "\n",
       "    .dataframe tbody tr th {\n",
       "        vertical-align: top;\n",
       "    }\n",
       "\n",
       "    .dataframe thead th {\n",
       "        text-align: right;\n",
       "    }\n",
       "</style>\n",
       "<table border=\"1\" class=\"dataframe\">\n",
       "  <thead>\n",
       "    <tr style=\"text-align: right;\">\n",
       "      <th></th>\n",
       "      <th>time</th>\n",
       "      <th>lat</th>\n",
       "      <th>lon</th>\n",
       "      <th>velocity</th>\n",
       "      <th>heading</th>\n",
       "      <th>vertrate</th>\n",
       "      <th>onground</th>\n",
       "      <th>alert</th>\n",
       "      <th>spi</th>\n",
       "      <th>squawk</th>\n",
       "      <th>baroaltitude</th>\n",
       "      <th>geoaltitude</th>\n",
       "      <th>lastposupdate</th>\n",
       "      <th>lastcontact</th>\n",
       "    </tr>\n",
       "  </thead>\n",
       "  <tbody>\n",
       "    <tr>\n",
       "      <th>0</th>\n",
       "      <td>1597647610</td>\n",
       "      <td>35.019104</td>\n",
       "      <td>135.619943</td>\n",
       "      <td>224.789071</td>\n",
       "      <td>259.050090</td>\n",
       "      <td>0.00000</td>\n",
       "      <td>False</td>\n",
       "      <td>False</td>\n",
       "      <td>False</td>\n",
       "      <td>3317.0</td>\n",
       "      <td>11574.78</td>\n",
       "      <td>12428.22</td>\n",
       "      <td>1.597648e+09</td>\n",
       "      <td>1.597648e+09</td>\n",
       "    </tr>\n",
       "    <tr>\n",
       "      <th>1</th>\n",
       "      <td>1597647620</td>\n",
       "      <td>35.015305</td>\n",
       "      <td>135.595784</td>\n",
       "      <td>224.691920</td>\n",
       "      <td>259.178884</td>\n",
       "      <td>0.32512</td>\n",
       "      <td>False</td>\n",
       "      <td>False</td>\n",
       "      <td>False</td>\n",
       "      <td>3317.0</td>\n",
       "      <td>11574.78</td>\n",
       "      <td>12428.22</td>\n",
       "      <td>1.597648e+09</td>\n",
       "      <td>1.597648e+09</td>\n",
       "    </tr>\n",
       "    <tr>\n",
       "      <th>2</th>\n",
       "      <td>1597647630</td>\n",
       "      <td>35.011597</td>\n",
       "      <td>135.572130</td>\n",
       "      <td>224.691920</td>\n",
       "      <td>259.178884</td>\n",
       "      <td>0.00000</td>\n",
       "      <td>False</td>\n",
       "      <td>False</td>\n",
       "      <td>False</td>\n",
       "      <td>3317.0</td>\n",
       "      <td>11582.40</td>\n",
       "      <td>12435.84</td>\n",
       "      <td>1.597648e+09</td>\n",
       "      <td>1.597648e+09</td>\n",
       "    </tr>\n",
       "    <tr>\n",
       "      <th>3</th>\n",
       "      <td>1597647640</td>\n",
       "      <td>35.007702</td>\n",
       "      <td>135.547485</td>\n",
       "      <td>225.197237</td>\n",
       "      <td>259.203457</td>\n",
       "      <td>0.00000</td>\n",
       "      <td>False</td>\n",
       "      <td>False</td>\n",
       "      <td>False</td>\n",
       "      <td>3317.0</td>\n",
       "      <td>11574.78</td>\n",
       "      <td>12428.22</td>\n",
       "      <td>1.597648e+09</td>\n",
       "      <td>1.597648e+09</td>\n",
       "    </tr>\n",
       "    <tr>\n",
       "      <th>4</th>\n",
       "      <td>1597647650</td>\n",
       "      <td>35.004117</td>\n",
       "      <td>135.524769</td>\n",
       "      <td>225.294170</td>\n",
       "      <td>259.074942</td>\n",
       "      <td>0.00000</td>\n",
       "      <td>False</td>\n",
       "      <td>False</td>\n",
       "      <td>False</td>\n",
       "      <td>3317.0</td>\n",
       "      <td>11574.78</td>\n",
       "      <td>12428.22</td>\n",
       "      <td>1.597648e+09</td>\n",
       "      <td>1.597648e+09</td>\n",
       "    </tr>\n",
       "  </tbody>\n",
       "</table>\n",
       "</div>"
      ],
      "text/plain": [
       "         time        lat         lon    velocity     heading  vertrate  \\\n",
       "0  1597647610  35.019104  135.619943  224.789071  259.050090   0.00000   \n",
       "1  1597647620  35.015305  135.595784  224.691920  259.178884   0.32512   \n",
       "2  1597647630  35.011597  135.572130  224.691920  259.178884   0.00000   \n",
       "3  1597647640  35.007702  135.547485  225.197237  259.203457   0.00000   \n",
       "4  1597647650  35.004117  135.524769  225.294170  259.074942   0.00000   \n",
       "\n",
       "   onground  alert    spi  squawk  baroaltitude  geoaltitude  lastposupdate  \\\n",
       "0     False  False  False  3317.0      11574.78     12428.22   1.597648e+09   \n",
       "1     False  False  False  3317.0      11574.78     12428.22   1.597648e+09   \n",
       "2     False  False  False  3317.0      11582.40     12435.84   1.597648e+09   \n",
       "3     False  False  False  3317.0      11574.78     12428.22   1.597648e+09   \n",
       "4     False  False  False  3317.0      11574.78     12428.22   1.597648e+09   \n",
       "\n",
       "    lastcontact  \n",
       "0  1.597648e+09  \n",
       "1  1.597648e+09  \n",
       "2  1.597648e+09  \n",
       "3  1.597648e+09  \n",
       "4  1.597648e+09  "
      ]
     },
     "execution_count": 45,
     "metadata": {},
     "output_type": "execute_result"
    }
   ],
   "source": [
    "file_name = '8474f0_JJP513.csv'\n",
    "df = pd.read_csv(file_name)\n",
    "df.head()"
   ]
  },
  {
   "cell_type": "code",
   "execution_count": 46,
   "metadata": {},
   "outputs": [],
   "source": [
    "phase_slicer = FlightPhase()\n",
    "phase_slicer.set_trajectory(df['time'].values,df['geoaltitude'].values*m_to_ft,df['velocity'].values*m_by_s_to_kt, df['vertrate'].values*m_by_s_to_ft_by_min)"
   ]
  },
  {
   "cell_type": "code",
   "execution_count": 47,
   "metadata": {},
   "outputs": [
    {
     "data": {
      "text/plain": [
       "<matplotlib.axes._subplots.AxesSubplot at 0x2b24be600f0>"
      ]
     },
     "execution_count": 47,
     "metadata": {},
     "output_type": "execute_result"
    },
    {
     "data": {
      "image/png": "[encoded data removed]",
      "text/plain": [
       "<Figure size 432x288 with 1 Axes>"
      ]
     },
     "metadata": {
      "needs_background": "light"
     },
     "output_type": "display_data"
    }
   ],
   "source": [
    "df['phase'] = phase_slicer.phaselabel()\n",
    "\n",
    "phasecolors = {\n",
    "    'GND': 1,\n",
    "    'CL': 2,\n",
    "    'DE': 3,\n",
    "    'LVL': 4,\n",
    "    'CR': 5,\n",
    "    'NA': 6\n",
    "}\n",
    "df['color'] = [phasecolors[phase] for phase in df['phase']]\n",
    "df.plot.scatter('time','geoaltitude',c='color',colormap='jet',colorbar=False)"
   ]
  },
  {
   "cell_type": "code",
   "execution_count": 13,
   "metadata": {},
   "outputs": [],
   "source": [
    "with open('phase_'+file_name,'w') as file:\n",
    "    file.write(df.to_csv(index=False))"
   ]
  },
  {
   "cell_type": "code",
   "execution_count": 36,
   "metadata": {},
   "outputs": [],
   "source": [
    "def check_full_flight(flight):\n",
    "    if not flight[flight['phase']=='GND'].empty:\n",
    "        delta_t = flight[flight['phase']=='GND']['time'].iloc[-1]-flight[flight['phase']=='GND']['time'].iloc[0]\n",
    "        if delta_t>15*60:\n",
    "            return True\n",
    "    return False"
   ]
  },
  {
   "cell_type": "code",
   "execution_count": 37,
   "metadata": {},
   "outputs": [
    {
     "data": {
      "text/plain": [
       "False"
      ]
     },
     "execution_count": 37,
     "metadata": {},
     "output_type": "execute_result"
    }
   ],
   "source": [
    "check_full_flight(df)"
   ]
  }
 ],
 "metadata": {
  "kernelspec": {
   "display_name": "Python 3",
   "language": "python",
   "name": "python3"
  },
  "language_info": {
   "codemirror_mode": {
    "name": "ipython",
    "version": 3
   },
   "file_extension": ".py",
   "mimetype": "text/x-python",
   "name": "python",
   "nbconvert_exporter": "python",
   "pygments_lexer": "ipython3",
   "version": "3.6.5"
  },
  "varInspector": {
   "cols": {
    "lenName": 16,
    "lenType": 16,
    "lenVar": 40
   },
   "kernels_config": {
    "python": {
     "delete_cmd_postfix": "",
     "delete_cmd_prefix": "del ",
     "library": "var_list.py",
     "varRefreshCmd": "print(var_dic_list())"
    },
    "r": {
     "delete_cmd_postfix": ") ",
     "delete_cmd_prefix": "rm(",
     "library": "var_list.r",
     "varRefreshCmd": "cat(var_dic_list()) "
    }
   },
   "types_to_exclude": [
    "module",
    "function",
    "builtin_function_or_method",
    "instance",
    "_Feature"
   ],
   "window_display": false
  }
 },
 "nbformat": 4,
 "nbformat_minor": 4
}
