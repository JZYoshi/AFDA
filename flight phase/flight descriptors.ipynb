{
 "cells": [
  {
   "cell_type": "code",
   "execution_count": 1,
   "metadata": {},
   "outputs": [],
   "source": [
    "import pandas as pd\n",
    "import numpy as np\n",
    "import matplotlib.pyplot as plt"
   ]
  },
  {
   "cell_type": "code",
   "execution_count": 14,
   "metadata": {},
   "outputs": [
    {
     "data": {
      "text/html": [
       "<div>\n",
       "<style scoped>\n",
       "    .dataframe tbody tr th:only-of-type {\n",
       "        vertical-align: middle;\n",
       "    }\n",
       "\n",
       "    .dataframe tbody tr th {\n",
       "        vertical-align: top;\n",
       "    }\n",
       "\n",
       "    .dataframe thead th {\n",
       "        text-align: right;\n",
       "    }\n",
       "</style>\n",
       "<table border=\"1\" class=\"dataframe\">\n",
       "  <thead>\n",
       "    <tr style=\"text-align: right;\">\n",
       "      <th></th>\n",
       "      <th>time</th>\n",
       "      <th>icao24</th>\n",
       "      <th>velocity</th>\n",
       "      <th>vertrate</th>\n",
       "      <th>onground</th>\n",
       "      <th>baroaltitude</th>\n",
       "      <th>geoaltitude</th>\n",
       "      <th>time_s</th>\n",
       "      <th>phase</th>\n",
       "      <th>color</th>\n",
       "    </tr>\n",
       "  </thead>\n",
       "  <tbody>\n",
       "    <tr>\n",
       "      <th>0</th>\n",
       "      <td>00:00:00</td>\n",
       "      <td>4bb859</td>\n",
       "      <td>NaN</td>\n",
       "      <td>NaN</td>\n",
       "      <td>True</td>\n",
       "      <td>NaN</td>\n",
       "      <td>NaN</td>\n",
       "      <td>0.0</td>\n",
       "      <td>LVL</td>\n",
       "      <td>4</td>\n",
       "    </tr>\n",
       "    <tr>\n",
       "      <th>1</th>\n",
       "      <td>00:00:10</td>\n",
       "      <td>4bb859</td>\n",
       "      <td>NaN</td>\n",
       "      <td>NaN</td>\n",
       "      <td>True</td>\n",
       "      <td>NaN</td>\n",
       "      <td>NaN</td>\n",
       "      <td>10.0</td>\n",
       "      <td>LVL</td>\n",
       "      <td>4</td>\n",
       "    </tr>\n",
       "    <tr>\n",
       "      <th>2</th>\n",
       "      <td>00:00:20</td>\n",
       "      <td>4bb859</td>\n",
       "      <td>NaN</td>\n",
       "      <td>NaN</td>\n",
       "      <td>True</td>\n",
       "      <td>NaN</td>\n",
       "      <td>NaN</td>\n",
       "      <td>20.0</td>\n",
       "      <td>LVL</td>\n",
       "      <td>4</td>\n",
       "    </tr>\n",
       "    <tr>\n",
       "      <th>3</th>\n",
       "      <td>00:00:30</td>\n",
       "      <td>4bb859</td>\n",
       "      <td>NaN</td>\n",
       "      <td>NaN</td>\n",
       "      <td>True</td>\n",
       "      <td>NaN</td>\n",
       "      <td>NaN</td>\n",
       "      <td>30.0</td>\n",
       "      <td>LVL</td>\n",
       "      <td>4</td>\n",
       "    </tr>\n",
       "    <tr>\n",
       "      <th>4</th>\n",
       "      <td>00:00:40</td>\n",
       "      <td>4bb859</td>\n",
       "      <td>NaN</td>\n",
       "      <td>NaN</td>\n",
       "      <td>True</td>\n",
       "      <td>NaN</td>\n",
       "      <td>NaN</td>\n",
       "      <td>40.0</td>\n",
       "      <td>LVL</td>\n",
       "      <td>4</td>\n",
       "    </tr>\n",
       "  </tbody>\n",
       "</table>\n",
       "</div>"
      ],
      "text/plain": [
       "      time  icao24  velocity  vertrate  onground  baroaltitude  geoaltitude  \\\n",
       "0 00:00:00  4bb859       NaN       NaN      True           NaN          NaN   \n",
       "1 00:00:10  4bb859       NaN       NaN      True           NaN          NaN   \n",
       "2 00:00:20  4bb859       NaN       NaN      True           NaN          NaN   \n",
       "3 00:00:30  4bb859       NaN       NaN      True           NaN          NaN   \n",
       "4 00:00:40  4bb859       NaN       NaN      True           NaN          NaN   \n",
       "\n",
       "   time_s phase  color  \n",
       "0     0.0   LVL      4  \n",
       "1    10.0   LVL      4  \n",
       "2    20.0   LVL      4  \n",
       "3    30.0   LVL      4  \n",
       "4    40.0   LVL      4  "
      ]
     },
     "execution_count": 14,
     "metadata": {},
     "output_type": "execute_result"
    }
   ],
   "source": [
    "file_name = 'phase_4bb859.csv'\n",
    "df = pd.read_csv(file_name)\n",
    "df['time'] = pd.to_timedelta(df['time'])\n",
    "df.head()"
   ]
  },
  {
   "cell_type": "markdown",
   "metadata": {},
   "source": [
    "<div class='alert alert-info'>\n",
    "    <h2>Phase de montée</h2>\n",
    "    <p>Pour la phase de montée on peut calculer le temps de montée,la vitesse moyenne et l'ecart type, la vitesse moyenne de montée ainsi que l'écart-type. La différence d'altitude entre le début et la fin de la phase, les extremums de vitesse de montée, vitesse.\n",
    "    </p>\n",
    "</div>"
   ]
  },
  {
   "cell_type": "code",
   "execution_count": 43,
   "metadata": {},
   "outputs": [],
   "source": [
    "def calculate_descriptor(phase):\n",
    "    duration = -phase['time_s'].iloc[0]+ phase['time_s'].iloc[-1]\n",
    "    avg_spd = phase['velocity'].mean()\n",
    "    std_spd = phase['velocity'].std()\n",
    "    vertrate_avg_spd = phase['vertrate'].mean()\n",
    "    vertrate_std_spd = phase['vertrate'].std()\n",
    "    delta_h = phase['geoaltitude'].iloc[-1] - phase['geoaltitude'].iloc[0]\n",
    "    max_spd = phase['velocity'].max()\n",
    "    min_spd = phase['velocity'].min()\n",
    "    max_vertrate_spd = phase['vertrate'].max()\n",
    "    min_vertrate_spd = phase['vertrate'].min()\n",
    "    del phase\n",
    "    return locals()"
   ]
  },
  {
   "cell_type": "code",
   "execution_count": 40,
   "metadata": {},
   "outputs": [
    {
     "data": {
      "text/plain": [
       "{'min_vertrate_spd': 0.0,\n",
       " 'max_vertrate_spd': 20.15744,\n",
       " 'min_spd': 75.11587084750812,\n",
       " 'max_spd': 249.6967246233593,\n",
       " 'delta_h': 11010.9,\n",
       " 'phase_std_spd': 4.316754339338539,\n",
       " 'phase_avg_spd': 8.458046060606062,\n",
       " 'std_spd': 49.267080321409495,\n",
       " 'avg_spd': 208.56644367501153,\n",
       " 'duration': 1310.0}"
      ]
     },
     "execution_count": 40,
     "metadata": {},
     "output_type": "execute_result"
    }
   ],
   "source": [
    "climb = df[df['phase']=='CL']\n",
    "calculate_descriptor(climb)"
   ]
  },
  {
   "cell_type": "markdown",
   "metadata": {},
   "source": [
    "<div class='alert alert-info'>\n",
    "    <h2>Phase de croisière</h2>\n",
    "    <p>On peut la aussi calculer les mêmes indicateurs que pour la phase de montée et ajouter la moyenne et l'écart-type d'altitude.\n",
    "    </p>\n",
    "</div>"
   ]
  },
  {
   "cell_type": "code",
   "execution_count": 48,
   "metadata": {},
   "outputs": [
    {
     "data": {
      "text/plain": [
       "{'min_vertrate_spd': -0.6502399999999999,\n",
       " 'max_vertrate_spd': 0.97536,\n",
       " 'min_spd': 212.26597809770385,\n",
       " 'max_spd': 241.24516651746518,\n",
       " 'delta_h': 434.34000000000015,\n",
       " 'vertrate_std_spd': 0.1815902854151903,\n",
       " 'vertrate_avg_spd': -0.008176094674556213,\n",
       " 'std_spd': 6.8943197692699245,\n",
       " 'avg_spd': 230.64319378484987,\n",
       " 'duration': 6770.0,\n",
       " 'mean_altitude': 11429.312396449704,\n",
       " 'std_altitude': 148.5004566353759}"
      ]
     },
     "execution_count": 48,
     "metadata": {},
     "output_type": "execute_result"
    }
   ],
   "source": [
    "cruise = df[df['phase']=='CR']\n",
    "desc = calculate_descriptor(cruise)\n",
    "desc['mean_altitude'] = cruise['geoaltitude'].mean()\n",
    "desc['std_altitude'] = cruise['geoaltitude'].std()\n",
    "desc"
   ]
  },
  {
   "cell_type": "markdown",
   "metadata": {},
   "source": [
    "<div class='alert alert-info'>\n",
    "    <h2>Phase de descente</h2>\n",
    "    <p>On peut la aussi calculer les mêmes indicateurs que pour la phase de montée.\n",
    "    </p>\n",
    "</div>"
   ]
  },
  {
   "cell_type": "code",
   "execution_count": 47,
   "metadata": {},
   "outputs": [
    {
     "data": {
      "text/plain": [
       "{'min_vertrate_spd': -18.20672,\n",
       " 'max_vertrate_spd': 0.0,\n",
       " 'min_spd': 69.25341107268719,\n",
       " 'max_spd': 236.47642702061611,\n",
       " 'delta_h': -11414.76,\n",
       " 'vertrate_std_spd': 4.499220209831949,\n",
       " 'vertrate_avg_spd': -7.278430476190476,\n",
       " 'std_spd': 62.111551051225234,\n",
       " 'avg_spd': 153.34324104286085,\n",
       " 'duration': 1730.0}"
      ]
     },
     "execution_count": 47,
     "metadata": {},
     "output_type": "execute_result"
    }
   ],
   "source": [
    "descent = df[df['phase']=='DE']\n",
    "calculate_descriptor(descent)"
   ]
  },
  {
   "cell_type": "code",
   "execution_count": 53,
   "metadata": {},
   "outputs": [
    {
     "data": {
      "text/plain": [
       "Timedelta('0 days 02:43:50')"
      ]
     },
     "execution_count": 53,
     "metadata": {},
     "output_type": "execute_result"
    }
   ],
   "source": [
    "flight_duration = -df[df['phase']=='CL']['time'].iloc[0] + df[df['phase']=='DE']['time'].iloc[-1]\n",
    "flight_duration"
   ]
  }
 ],
 "metadata": {
  "kernelspec": {
   "display_name": "Python 3",
   "language": "python",
   "name": "python3"
  },
  "language_info": {
   "codemirror_mode": {
    "name": "ipython",
    "version": 3
   },
   "file_extension": ".py",
   "mimetype": "text/x-python",
   "name": "python",
   "nbconvert_exporter": "python",
   "pygments_lexer": "ipython3",
   "version": "3.6.5"
  },
  "varInspector": {
   "cols": {
    "lenName": 16,
    "lenType": 16,
    "lenVar": 40
   },
   "kernels_config": {
    "python": {
     "delete_cmd_postfix": "",
     "delete_cmd_prefix": "del ",
     "library": "var_list.py",
     "varRefreshCmd": "print(var_dic_list())"
    },
    "r": {
     "delete_cmd_postfix": ") ",
     "delete_cmd_prefix": "rm(",
     "library": "var_list.r",
     "varRefreshCmd": "cat(var_dic_list()) "
    }
   },
   "types_to_exclude": [
    "module",
    "function",
    "builtin_function_or_method",
    "instance",
    "_Feature"
   ],
   "window_display": false
  }
 },
 "nbformat": 4,
 "nbformat_minor": 4
}
