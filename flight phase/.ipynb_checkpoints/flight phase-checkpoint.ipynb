{
 "cells": [
  {
   "cell_type": "code",
   "execution_count": 79,
   "metadata": {},
   "outputs": [],
   "source": [
    "import pandas as pd\n",
    "import matplotlib.pyplot as plt\n",
    "import numpy as np\n",
    "from openap import FlightPhase"
   ]
  },
  {
   "cell_type": "code",
   "execution_count": 80,
   "metadata": {},
   "outputs": [],
   "source": [
    "m_to_ft = 3.28084\n",
    "m_by_s_to_ft_by_min = 3.28084*60\n",
    "m_by_s_to_kt = 1.94384"
   ]
  },
  {
   "cell_type": "code",
   "execution_count": 81,
   "metadata": {},
   "outputs": [
    {
     "data": {
      "text/html": [
       "<div>\n",
       "<style scoped>\n",
       "    .dataframe tbody tr th:only-of-type {\n",
       "        vertical-align: middle;\n",
       "    }\n",
       "\n",
       "    .dataframe tbody tr th {\n",
       "        vertical-align: top;\n",
       "    }\n",
       "\n",
       "    .dataframe thead th {\n",
       "        text-align: right;\n",
       "    }\n",
       "</style>\n",
       "<table border=\"1\" class=\"dataframe\">\n",
       "  <thead>\n",
       "    <tr style=\"text-align: right;\">\n",
       "      <th></th>\n",
       "      <th>time</th>\n",
       "      <th>icao24</th>\n",
       "      <th>lat</th>\n",
       "      <th>lon</th>\n",
       "      <th>velocity</th>\n",
       "      <th>heading</th>\n",
       "      <th>vertrate</th>\n",
       "      <th>callsign</th>\n",
       "      <th>onground</th>\n",
       "      <th>alert</th>\n",
       "      <th>spi</th>\n",
       "      <th>squawk</th>\n",
       "      <th>baroaltitude</th>\n",
       "      <th>geoaltitude</th>\n",
       "      <th>lastposupdate</th>\n",
       "      <th>lastcontact</th>\n",
       "    </tr>\n",
       "  </thead>\n",
       "  <tbody>\n",
       "    <tr>\n",
       "      <th>0</th>\n",
       "      <td>2020-10-12 00:00:10</td>\n",
       "      <td>4bb859</td>\n",
       "      <td>50.864914</td>\n",
       "      <td>7.139536</td>\n",
       "      <td>NaN</td>\n",
       "      <td>NaN</td>\n",
       "      <td>NaN</td>\n",
       "      <td>PGT13K</td>\n",
       "      <td>True</td>\n",
       "      <td>False</td>\n",
       "      <td>False</td>\n",
       "      <td>NaN</td>\n",
       "      <td>NaN</td>\n",
       "      <td>NaN</td>\n",
       "      <td>1.602461e+09</td>\n",
       "      <td>1.602461e+09</td>\n",
       "    </tr>\n",
       "    <tr>\n",
       "      <th>1</th>\n",
       "      <td>2020-10-12 00:00:20</td>\n",
       "      <td>4bb859</td>\n",
       "      <td>50.865163</td>\n",
       "      <td>7.140388</td>\n",
       "      <td>NaN</td>\n",
       "      <td>NaN</td>\n",
       "      <td>NaN</td>\n",
       "      <td>PGT13K</td>\n",
       "      <td>True</td>\n",
       "      <td>False</td>\n",
       "      <td>False</td>\n",
       "      <td>NaN</td>\n",
       "      <td>NaN</td>\n",
       "      <td>NaN</td>\n",
       "      <td>1.602461e+09</td>\n",
       "      <td>1.602461e+09</td>\n",
       "    </tr>\n",
       "    <tr>\n",
       "      <th>2</th>\n",
       "      <td>2020-10-12 00:00:30</td>\n",
       "      <td>4bb859</td>\n",
       "      <td>50.865429</td>\n",
       "      <td>7.141262</td>\n",
       "      <td>NaN</td>\n",
       "      <td>NaN</td>\n",
       "      <td>NaN</td>\n",
       "      <td>PGT13K</td>\n",
       "      <td>True</td>\n",
       "      <td>False</td>\n",
       "      <td>False</td>\n",
       "      <td>NaN</td>\n",
       "      <td>NaN</td>\n",
       "      <td>NaN</td>\n",
       "      <td>1.602461e+09</td>\n",
       "      <td>1.602461e+09</td>\n",
       "    </tr>\n",
       "    <tr>\n",
       "      <th>3</th>\n",
       "      <td>2020-10-12 00:00:40</td>\n",
       "      <td>4bb859</td>\n",
       "      <td>50.865692</td>\n",
       "      <td>7.142115</td>\n",
       "      <td>NaN</td>\n",
       "      <td>NaN</td>\n",
       "      <td>NaN</td>\n",
       "      <td>PGT13K</td>\n",
       "      <td>True</td>\n",
       "      <td>False</td>\n",
       "      <td>False</td>\n",
       "      <td>NaN</td>\n",
       "      <td>NaN</td>\n",
       "      <td>NaN</td>\n",
       "      <td>1.602461e+09</td>\n",
       "      <td>1.602461e+09</td>\n",
       "    </tr>\n",
       "    <tr>\n",
       "      <th>4</th>\n",
       "      <td>2020-10-12 00:00:50</td>\n",
       "      <td>4bb859</td>\n",
       "      <td>50.865921</td>\n",
       "      <td>7.142913</td>\n",
       "      <td>NaN</td>\n",
       "      <td>NaN</td>\n",
       "      <td>NaN</td>\n",
       "      <td>PGT13K</td>\n",
       "      <td>True</td>\n",
       "      <td>False</td>\n",
       "      <td>False</td>\n",
       "      <td>NaN</td>\n",
       "      <td>NaN</td>\n",
       "      <td>NaN</td>\n",
       "      <td>1.602461e+09</td>\n",
       "      <td>1.602461e+09</td>\n",
       "    </tr>\n",
       "  </tbody>\n",
       "</table>\n",
       "</div>"
      ],
      "text/plain": [
       "                  time  icao24        lat       lon  velocity  heading  \\\n",
       "0  2020-10-12 00:00:10  4bb859  50.864914  7.139536       NaN      NaN   \n",
       "1  2020-10-12 00:00:20  4bb859  50.865163  7.140388       NaN      NaN   \n",
       "2  2020-10-12 00:00:30  4bb859  50.865429  7.141262       NaN      NaN   \n",
       "3  2020-10-12 00:00:40  4bb859  50.865692  7.142115       NaN      NaN   \n",
       "4  2020-10-12 00:00:50  4bb859  50.865921  7.142913       NaN      NaN   \n",
       "\n",
       "   vertrate  callsign  onground  alert    spi  squawk  baroaltitude  \\\n",
       "0       NaN  PGT13K        True  False  False     NaN           NaN   \n",
       "1       NaN  PGT13K        True  False  False     NaN           NaN   \n",
       "2       NaN  PGT13K        True  False  False     NaN           NaN   \n",
       "3       NaN  PGT13K        True  False  False     NaN           NaN   \n",
       "4       NaN  PGT13K        True  False  False     NaN           NaN   \n",
       "\n",
       "   geoaltitude  lastposupdate   lastcontact  \n",
       "0          NaN   1.602461e+09  1.602461e+09  \n",
       "1          NaN   1.602461e+09  1.602461e+09  \n",
       "2          NaN   1.602461e+09  1.602461e+09  \n",
       "3          NaN   1.602461e+09  1.602461e+09  \n",
       "4          NaN   1.602461e+09  1.602461e+09  "
      ]
     },
     "execution_count": 81,
     "metadata": {},
     "output_type": "execute_result"
    }
   ],
   "source": [
    "file_name = '4bb859.csv'\n",
    "df = pd.read_csv(file_name)\n",
    "df.head()"
   ]
  },
  {
   "cell_type": "code",
   "execution_count": 82,
   "metadata": {},
   "outputs": [],
   "source": [
    "df['time']=pd.to_datetime(df['time'])-pd.to_datetime(df['time'][0])\n",
    "df['time_s'] = df['time'].dt.total_seconds().values"
   ]
  },
  {
   "cell_type": "code",
   "execution_count": 83,
   "metadata": {},
   "outputs": [],
   "source": [
    "phase_slicer = FlightPhase()\n",
    "phase_slicer.set_trajectory(df['time_s'],df['geoaltitude'].values*m_to_ft,df['velocity'].values*m_by_s_to_kt, df['vertrate'].values*m_by_s_to_ft_by_min)"
   ]
  },
  {
   "cell_type": "code",
   "execution_count": 92,
   "metadata": {},
   "outputs": [
    {
     "data": {
      "text/plain": [
       "<matplotlib.axes._subplots.AxesSubplot at 0x22789120278>"
      ]
     },
     "execution_count": 92,
     "metadata": {},
     "output_type": "execute_result"
    },
    {
     "data": {
      "image/png": "[encoded data removed]",
      "text/plain": [
       "<Figure size 432x288 with 1 Axes>"
      ]
     },
     "metadata": {
      "needs_background": "light"
     },
     "output_type": "display_data"
    }
   ],
   "source": [
    "df['phase'] = phase_slicer.phaselabel()\n",
    "\n",
    "phasecolors = {\n",
    "    'GND': 1,\n",
    "    'CL': 2,\n",
    "    'DE': 3,\n",
    "    'LVL': 4,\n",
    "    'CR': 5,\n",
    "    'NA': 6\n",
    "}\n",
    "df['color'] = [phasecolors[phase] for phase in df['phase']]\n",
    "df.plot.scatter('time_s','geoaltitude',c='color',colormap='jet',colorbar=False)"
   ]
  },
  {
   "cell_type": "code",
   "execution_count": 97,
   "metadata": {},
   "outputs": [],
   "source": [
    "df.drop(columns=['lat','lon','heading','callsign','alert','spi','squawk','lastposupdate','lastcontact'],inplace=True)"
   ]
  },
  {
   "cell_type": "code",
   "execution_count": 102,
   "metadata": {},
   "outputs": [],
   "source": [
    "with open('phase_'+file_name,'w') as file:\n",
    "    file.write(df.to_csv(index=False))"
   ]
  }
 ],
 "metadata": {
  "kernelspec": {
   "display_name": "Python 3",
   "language": "python",
   "name": "python3"
  },
  "language_info": {
   "codemirror_mode": {
    "name": "ipython",
    "version": 3
   },
   "file_extension": ".py",
   "mimetype": "text/x-python",
   "name": "python",
   "nbconvert_exporter": "python",
   "pygments_lexer": "ipython3",
   "version": "3.6.5"
  },
  "varInspector": {
   "cols": {
    "lenName": 16,
    "lenType": 16,
    "lenVar": 40
   },
   "kernels_config": {
    "python": {
     "delete_cmd_postfix": "",
     "delete_cmd_prefix": "del ",
     "library": "var_list.py",
     "varRefreshCmd": "print(var_dic_list())"
    },
    "r": {
     "delete_cmd_postfix": ") ",
     "delete_cmd_prefix": "rm(",
     "library": "var_list.r",
     "varRefreshCmd": "cat(var_dic_list()) "
    }
   },
   "types_to_exclude": [
    "module",
    "function",
    "builtin_function_or_method",
    "instance",
    "_Feature"
   ],
   "window_display": false
  }
 },
 "nbformat": 4,
 "nbformat_minor": 4
}
