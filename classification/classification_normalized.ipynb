{
 "cells": [
  {
   "cell_type": "markdown",
   "metadata": {},
   "source": [
    "In this notebook, we want to get a first perception of the dataset."
   ]
  },
  {
   "cell_type": "code",
   "execution_count": 1,
   "metadata": {},
   "outputs": [
    {
     "data": {
      "text/html": [
       "<div>\n",
       "<style scoped>\n",
       "    .dataframe tbody tr th:only-of-type {\n",
       "        vertical-align: middle;\n",
       "    }\n",
       "\n",
       "    .dataframe tbody tr th {\n",
       "        vertical-align: top;\n",
       "    }\n",
       "\n",
       "    .dataframe thead th {\n",
       "        text-align: right;\n",
       "    }\n",
       "</style>\n",
       "<table border=\"1\" class=\"dataframe\">\n",
       "  <thead>\n",
       "    <tr style=\"text-align: right;\">\n",
       "      <th></th>\n",
       "      <th>icao24_callsign</th>\n",
       "      <th>min_vertrate_spd_climb</th>\n",
       "      <th>max_vertrate_spd_climb</th>\n",
       "      <th>min_spd_climb</th>\n",
       "      <th>max_spd_climb</th>\n",
       "      <th>delta_h_climb</th>\n",
       "      <th>vertrate_std_spd_climb</th>\n",
       "      <th>vertrate_avg_spd_climb</th>\n",
       "      <th>std_spd_climb</th>\n",
       "      <th>avg_spd_climb</th>\n",
       "      <th>...</th>\n",
       "      <th>max_vertrate_spd_descent</th>\n",
       "      <th>min_spd_descent</th>\n",
       "      <th>max_spd_descent</th>\n",
       "      <th>delta_h_descent</th>\n",
       "      <th>vertrate_std_spd_descent</th>\n",
       "      <th>vertrate_avg_spd_descent</th>\n",
       "      <th>std_spd_descent</th>\n",
       "      <th>avg_spd_descent</th>\n",
       "      <th>duration_descent</th>\n",
       "      <th>operatoricao</th>\n",
       "    </tr>\n",
       "  </thead>\n",
       "  <tbody>\n",
       "    <tr>\n",
       "      <th>0</th>\n",
       "      <td>020108_MAC266</td>\n",
       "      <td>0.00000</td>\n",
       "      <td>23.73376</td>\n",
       "      <td>72.040531</td>\n",
       "      <td>231.708342</td>\n",
       "      <td>10546.08</td>\n",
       "      <td>5.646865</td>\n",
       "      <td>9.521831</td>\n",
       "      <td>43.345834</td>\n",
       "      <td>176.165576</td>\n",
       "      <td>...</td>\n",
       "      <td>0.32512</td>\n",
       "      <td>59.080483</td>\n",
       "      <td>226.124327</td>\n",
       "      <td>-11033.76</td>\n",
       "      <td>4.979558</td>\n",
       "      <td>-8.045507</td>\n",
       "      <td>56.977349</td>\n",
       "      <td>158.548631</td>\n",
       "      <td>1420</td>\n",
       "      <td>MAC</td>\n",
       "    </tr>\n",
       "    <tr>\n",
       "      <th>1</th>\n",
       "      <td>06a08d_QTR3485</td>\n",
       "      <td>-0.32512</td>\n",
       "      <td>14.63040</td>\n",
       "      <td>90.086474</td>\n",
       "      <td>239.974203</td>\n",
       "      <td>10744.20</td>\n",
       "      <td>3.234501</td>\n",
       "      <td>6.141377</td>\n",
       "      <td>35.152508</td>\n",
       "      <td>209.307688</td>\n",
       "      <td>...</td>\n",
       "      <td>0.32512</td>\n",
       "      <td>67.252609</td>\n",
       "      <td>241.052561</td>\n",
       "      <td>-10888.98</td>\n",
       "      <td>2.628688</td>\n",
       "      <td>-5.726423</td>\n",
       "      <td>55.054771</td>\n",
       "      <td>164.937370</td>\n",
       "      <td>2090</td>\n",
       "      <td>QTR</td>\n",
       "    </tr>\n",
       "    <tr>\n",
       "      <th>2</th>\n",
       "      <td>06a091_QTR3281</td>\n",
       "      <td>0.32512</td>\n",
       "      <td>16.58112</td>\n",
       "      <td>67.635203</td>\n",
       "      <td>245.416210</td>\n",
       "      <td>11094.72</td>\n",
       "      <td>3.098535</td>\n",
       "      <td>6.474980</td>\n",
       "      <td>40.874531</td>\n",
       "      <td>209.151110</td>\n",
       "      <td>...</td>\n",
       "      <td>0.32512</td>\n",
       "      <td>63.284976</td>\n",
       "      <td>236.053570</td>\n",
       "      <td>-11186.16</td>\n",
       "      <td>4.973232</td>\n",
       "      <td>-6.981524</td>\n",
       "      <td>58.628951</td>\n",
       "      <td>152.980904</td>\n",
       "      <td>2030</td>\n",
       "      <td>QTR</td>\n",
       "    </tr>\n",
       "    <tr>\n",
       "      <th>3</th>\n",
       "      <td>33ffc1_IAM3174</td>\n",
       "      <td>0.32512</td>\n",
       "      <td>17.55648</td>\n",
       "      <td>74.024541</td>\n",
       "      <td>257.401478</td>\n",
       "      <td>10896.60</td>\n",
       "      <td>3.609616</td>\n",
       "      <td>9.387840</td>\n",
       "      <td>54.463798</td>\n",
       "      <td>204.257835</td>\n",
       "      <td>...</td>\n",
       "      <td>1.62560</td>\n",
       "      <td>69.373684</td>\n",
       "      <td>260.650047</td>\n",
       "      <td>-11186.16</td>\n",
       "      <td>8.331098</td>\n",
       "      <td>-9.346615</td>\n",
       "      <td>61.177911</td>\n",
       "      <td>179.921102</td>\n",
       "      <td>1730</td>\n",
       "      <td>IAM</td>\n",
       "    </tr>\n",
       "    <tr>\n",
       "      <th>4</th>\n",
       "      <td>34134e_IBE34BP</td>\n",
       "      <td>2.27584</td>\n",
       "      <td>17.88160</td>\n",
       "      <td>71.093853</td>\n",
       "      <td>246.227431</td>\n",
       "      <td>10751.82</td>\n",
       "      <td>3.276368</td>\n",
       "      <td>8.927853</td>\n",
       "      <td>50.655721</td>\n",
       "      <td>199.158926</td>\n",
       "      <td>...</td>\n",
       "      <td>0.32512</td>\n",
       "      <td>53.197092</td>\n",
       "      <td>254.696024</td>\n",
       "      <td>-10637.52</td>\n",
       "      <td>4.243448</td>\n",
       "      <td>-7.746113</td>\n",
       "      <td>58.320335</td>\n",
       "      <td>179.967827</td>\n",
       "      <td>1430</td>\n",
       "      <td>IBE</td>\n",
       "    </tr>\n",
       "  </tbody>\n",
       "</table>\n",
       "<p>5 rows × 34 columns</p>\n",
       "</div>"
      ],
      "text/plain": [
       "  icao24_callsign  min_vertrate_spd_climb  max_vertrate_spd_climb  \\\n",
       "0   020108_MAC266                 0.00000                23.73376   \n",
       "1  06a08d_QTR3485                -0.32512                14.63040   \n",
       "2  06a091_QTR3281                 0.32512                16.58112   \n",
       "3  33ffc1_IAM3174                 0.32512                17.55648   \n",
       "4  34134e_IBE34BP                 2.27584                17.88160   \n",
       "\n",
       "   min_spd_climb  max_spd_climb  delta_h_climb  vertrate_std_spd_climb  \\\n",
       "0      72.040531     231.708342       10546.08                5.646865   \n",
       "1      90.086474     239.974203       10744.20                3.234501   \n",
       "2      67.635203     245.416210       11094.72                3.098535   \n",
       "3      74.024541     257.401478       10896.60                3.609616   \n",
       "4      71.093853     246.227431       10751.82                3.276368   \n",
       "\n",
       "   vertrate_avg_spd_climb  std_spd_climb  avg_spd_climb  ...  \\\n",
       "0                9.521831      43.345834     176.165576  ...   \n",
       "1                6.141377      35.152508     209.307688  ...   \n",
       "2                6.474980      40.874531     209.151110  ...   \n",
       "3                9.387840      54.463798     204.257835  ...   \n",
       "4                8.927853      50.655721     199.158926  ...   \n",
       "\n",
       "   max_vertrate_spd_descent  min_spd_descent  max_spd_descent  \\\n",
       "0                   0.32512        59.080483       226.124327   \n",
       "1                   0.32512        67.252609       241.052561   \n",
       "2                   0.32512        63.284976       236.053570   \n",
       "3                   1.62560        69.373684       260.650047   \n",
       "4                   0.32512        53.197092       254.696024   \n",
       "\n",
       "   delta_h_descent  vertrate_std_spd_descent  vertrate_avg_spd_descent  \\\n",
       "0        -11033.76                  4.979558                 -8.045507   \n",
       "1        -10888.98                  2.628688                 -5.726423   \n",
       "2        -11186.16                  4.973232                 -6.981524   \n",
       "3        -11186.16                  8.331098                 -9.346615   \n",
       "4        -10637.52                  4.243448                 -7.746113   \n",
       "\n",
       "   std_spd_descent  avg_spd_descent  duration_descent  operatoricao  \n",
       "0        56.977349       158.548631              1420           MAC  \n",
       "1        55.054771       164.937370              2090           QTR  \n",
       "2        58.628951       152.980904              2030           QTR  \n",
       "3        61.177911       179.921102              1730           IAM  \n",
       "4        58.320335       179.967827              1430           IBE  \n",
       "\n",
       "[5 rows x 34 columns]"
      ]
     },
     "execution_count": 1,
     "metadata": {},
     "output_type": "execute_result"
    }
   ],
   "source": [
    "import pandas as pd\n",
    "df = pd.read_csv('./df_withcompany.csv')\n",
    "df.head()"
   ]
  },
  {
   "cell_type": "code",
   "execution_count": 2,
   "metadata": {},
   "outputs": [
    {
     "data": {
      "text/plain": [
       "<AxesSubplot:>"
      ]
     },
     "execution_count": 2,
     "metadata": {},
     "output_type": "execute_result"
    },
    {
     "data": {
      "image/png": "[encoded data removed]",
      "text/plain": [
       "<Figure size 432x288 with 1 Axes>"
      ]
     },
     "metadata": {
      "needs_background": "light"
     },
     "output_type": "display_data"
    }
   ],
   "source": [
    "df1 = df.drop('icao24_callsign',axis = 1)\n",
    "df1.boxplot()"
   ]
  },
  {
   "cell_type": "markdown",
   "metadata": {},
   "source": [
    "To prepare for the machine learning step, one can normalize it and make it a Gaussian with zero mean and unit variance."
   ]
  },
  {
   "cell_type": "code",
   "execution_count": 3,
   "metadata": {},
   "outputs": [],
   "source": [
    "from sklearn import preprocessing\n",
    "import matplotlib.pyplot as plt\n",
    "\n",
    "X_train = df1.drop('operatoricao',axis=1)\n",
    "X_scaled = preprocessing.scale(X_train)\n",
    "y = df1.operatoricao"
   ]
  },
  {
   "cell_type": "markdown",
   "metadata": {},
   "source": [
    "Compute a PCA to reduce the dimension:"
   ]
  },
  {
   "cell_type": "code",
   "execution_count": 4,
   "metadata": {},
   "outputs": [
    {
     "name": "stdout",
     "output_type": "stream",
     "text": [
      "[3.89091727e-01 2.50019613e-01 1.94778496e-01 8.60587932e-02\n",
      " 4.07980892e-02 1.48133922e-02 1.37586601e-02 1.05683128e-02\n",
      " 4.50069398e-05 2.14010421e-05 1.46305185e-05 1.33057414e-05\n",
      " 6.91207208e-06 6.27496769e-06 2.08815698e-06 9.80838019e-07\n",
      " 7.25272967e-07 4.74666488e-07 3.92317820e-07 2.07543665e-07\n",
      " 1.26400304e-07 1.10811484e-07 7.41688648e-08 6.19088900e-08\n",
      " 5.77596055e-08 2.82712844e-08 2.02558698e-08 1.68854421e-08\n",
      " 8.77921845e-09 5.41703393e-09 4.80323038e-09 6.84715521e-10]\n"
     ]
    },
    {
     "data": {
      "text/plain": [
       "0.999887083776493"
      ]
     },
     "execution_count": 4,
     "metadata": {},
     "output_type": "execute_result"
    }
   ],
   "source": [
    "from sklearn.decomposition import PCA\n",
    "\n",
    "pca = PCA(svd_solver='randomized',\n",
    "          whiten=True).fit(X_train)\n",
    "print(pca.explained_variance_ratio_)\n",
    "sum(pca.explained_variance_ratio_[:8])"
   ]
  },
  {
   "cell_type": "markdown",
   "metadata": {},
   "source": [
    "We can use the first eight variables to represent 99.989% of variability."
   ]
  },
  {
   "cell_type": "code",
   "execution_count": 5,
   "metadata": {},
   "outputs": [],
   "source": [
    "pca = PCA(n_components = 8, svd_solver='randomized',\n",
    "          whiten=True).fit(X_train)\n",
    "X_normalized_PCA= pca.transform(X_train)"
   ]
  },
  {
   "cell_type": "code",
   "execution_count": 6,
   "metadata": {},
   "outputs": [
    {
     "data": {
      "text/plain": [
       "EZY    28\n",
       "EWG    21\n",
       "DLH    20\n",
       "AFR    20\n",
       "WZZ    16\n",
       "BAW    15\n",
       "IBE    15\n",
       "DAT    12\n",
       "VLG    10\n",
       "SWR     9\n",
       "GWI     7\n",
       "IBS     6\n",
       "FIN     6\n",
       "EDW     6\n",
       "ASL     5\n",
       "AUA     5\n",
       "AZA     5\n",
       "UAL     4\n",
       "EIN     4\n",
       "TAP     4\n",
       "CTN     4\n",
       "LDM     4\n",
       "RZO     4\n",
       "MEA     3\n",
       "AAL     3\n",
       "AMC     3\n",
       "AEE     3\n",
       "DAL     2\n",
       "QTR     2\n",
       "ACA     2\n",
       "IGO     2\n",
       "IAM     1\n",
       "TCW     1\n",
       "EJU     1\n",
       "MAC     1\n",
       "LZB     1\n",
       "HVN     1\n",
       "VOE     1\n",
       "JBU     1\n",
       "NKS     1\n",
       "AAY     1\n",
       "BER     1\n",
       "Name: operatoricao, dtype: int64"
      ]
     },
     "execution_count": 6,
     "metadata": {},
     "output_type": "execute_result"
    }
   ],
   "source": [
    "y.value_counts()"
   ]
  },
  {
   "cell_type": "code",
   "execution_count": 7,
   "metadata": {
    "jupyter": {
     "source_hidden": true
    }
   },
   "outputs": [],
   "source": [
    "cut = int(len(X_normalized_PCA)*0.75)\n",
    "X_train = X_normalized_PCA[:cut]\n",
    "y_train = y[:cut]\n",
    "X_test = X_normalized_PCA[cut:]\n",
    "y_test = y[cut:]"
   ]
  },
  {
   "cell_type": "code",
   "execution_count": 30,
   "metadata": {},
   "outputs": [
    {
     "name": "stderr",
     "output_type": "stream",
     "text": [
      "/Users/z.wu/opt/anaconda3/lib/python3.7/site-packages/sklearn/model_selection/_split.py:672: UserWarning: The least populated class in y has only 1 members, which is less than n_splits=5.\n",
      "  % (min_groups, self.n_splits)), UserWarning)\n"
     ]
    },
    {
     "data": {
      "text/plain": [
       "0.14557329462989838"
      ]
     },
     "execution_count": 30,
     "metadata": {},
     "output_type": "execute_result"
    }
   ],
   "source": [
    "from sklearn.model_selection import cross_val_score\n",
    "from sklearn.ensemble import RandomForestClassifier\n",
    "\n",
    "clf = RandomForestClassifier(n_estimators=25, max_depth=None,min_samples_split=3, random_state=0)\n",
    "scores = cross_val_score(clf, X_normalized_PCA, y, cv=5)\n",
    "scores.mean()"
   ]
  }
 ],
 "metadata": {
  "kernelspec": {
   "display_name": "Python 3",
   "language": "python",
   "name": "python3"
  },
  "language_info": {
   "codemirror_mode": {
    "name": "ipython",
    "version": 3
   },
   "file_extension": ".py",
   "mimetype": "text/x-python",
   "name": "python",
   "nbconvert_exporter": "python",
   "pygments_lexer": "ipython3",
   "version": "3.7.7"
  }
 },
 "nbformat": 4,
 "nbformat_minor": 4
}
