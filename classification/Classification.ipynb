{
 "cells": [
  {
   "cell_type": "markdown",
   "metadata": {},
   "source": [
    "# Classification CAH"
   ]
  },
  {
   "cell_type": "markdown",
   "metadata": {},
   "source": [
    "In this notebook, the data with 100000 flights is used to conduct the classification."
   ]
  },
  {
   "cell_type": "code",
   "execution_count": 76,
   "metadata": {},
   "outputs": [],
   "source": [
    "import matplotlib.pyplot as plt\n",
    "import seaborn as sns\n",
    "import numpy as np\n",
    "from sklearn.model_selection import cross_val_score\n",
    "from sklearn.model_selection import ShuffleSplit\n",
    "from sklearn.model_selection import train_test_split\n",
    "from sklearn import preprocessing\n",
    "from sklearn.ensemble import RandomForestClassifier\n",
    "from sklearn.feature_selection import SelectFromModel\n",
    "from sklearn.metrics import accuracy_score\n",
    "from scipy.cluster.hierarchy import ward, fcluster\n",
    "from scipy.cluster.hierarchy import dendrogram, linkage\n",
    "from sklearn.preprocessing import RobustScaler\n",
    "from sklearn.preprocessing import MaxAbsScaler\n",
    "\n",
    "from sklearn.ensemble import GradientBoostingClassifier\n"
   ]
  },
  {
   "cell_type": "code",
   "execution_count": 64,
   "metadata": {},
   "outputs": [
    {
     "name": "stdout",
     "output_type": "stream",
     "text": [
      "number of evaluation is 1\n",
      "number of evaluation is 2\n"
     ]
    }
   ],
   "source": [
    "%run pretreatment.py\n",
    "%run ../flight\\ phase\\ on\\ dataset/db.py\n",
    "\n",
    "database_name = 'descriptors_1.db'\n",
    "\n",
    "columns_dropped = ['icao', 'icao_airline', 'duration_cruise', 'airport_climb', 'airport_descent']\n",
    "\n",
    "df, df_meteo, df_operation, airlines_decoder = pretreatment(database_name, columns_dropped, threshold_nb_flights=100, drop_min_max=True)\n",
    "columns = df.columns\n",
    "mad, clf, accuracy, X_train, X_test, y_train, y_test = feature_selection_baseline(df, n_estimators=100)\n",
    "columns_remained = feature_selection(mad, clf, accuracy, X_train, X_test, y_train, y_test, columns, begin=-3, end=3, n_choices=10)"
   ]
  },
  {
   "cell_type": "code",
   "execution_count": 65,
   "metadata": {},
   "outputs": [
    {
     "name": "stdout",
     "output_type": "stream",
     "text": [
      "number of evaluation is 1\n"
     ]
    }
   ],
   "source": [
    "columns_meteo = df_meteo.columns\n",
    "mad, clf, accuracy, X_train, X_test, y_train, y_test = feature_selection_baseline(df_meteo, n_estimators=100)\n",
    "columns_remained_meteo = feature_selection(mad, clf, accuracy, X_train, X_test, y_train, y_test, columns_meteo, begin=-3, end=3, n_choices=10)"
   ]
  },
  {
   "cell_type": "code",
   "execution_count": 66,
   "metadata": {},
   "outputs": [
    {
     "name": "stdout",
     "output_type": "stream",
     "text": [
      "number of evaluation is 1\n"
     ]
    }
   ],
   "source": [
    "columns_operation = df_operation.columns\n",
    "mad, clf, accuracy, X_train, X_test, y_train, y_test = feature_selection_baseline(df_operation, n_estimators=100)\n",
    "columns_remained_operation = feature_selection(mad, clf, accuracy, X_train, X_test, y_train, y_test, columns_operation, begin=-3, end=3, n_choices=10)"
   ]
  },
  {
   "cell_type": "code",
   "execution_count": 67,
   "metadata": {},
   "outputs": [
    {
     "name": "stdout",
     "output_type": "stream",
     "text": [
      "Columns deleted for whole dataset: ['wind_spind_kt_climb']\n",
      "Columns deleted for meteo sub dataset: ['wind_spind_kt_descent', 'wind_spind_kt_climb']\n",
      "Columns deleted for meteo sub dataset: ['avg_vertrate_speed_cruise']\n"
     ]
    }
   ],
   "source": [
    "%run pretreatment.py\n",
    "print(f'Columns deleted for whole dataset: {columns_deleted(columns, columns_remained)}')\n",
    "print(f'Columns deleted for meteo sub dataset: {columns_deleted(columns_meteo, columns_remained_meteo)}')\n",
    "print(f'Columns deleted for meteo sub dataset: {columns_deleted(columns_operation, columns_remained_operation)}')"
   ]
  },
  {
   "cell_type": "code",
   "execution_count": 68,
   "metadata": {},
   "outputs": [],
   "source": [
    "X = df.iloc[:,:-1]\n",
    "y = df.loc[:,[\"airline_cat\"]]"
   ]
  },
  {
   "cell_type": "code",
   "execution_count": 69,
   "metadata": {},
   "outputs": [],
   "source": [
    "X_selected = X[columns_remained]"
   ]
  },
  {
   "cell_type": "markdown",
   "metadata": {},
   "source": [
    "# Aggregating data"
   ]
  },
  {
   "cell_type": "code",
   "execution_count": 70,
   "metadata": {},
   "outputs": [],
   "source": [
    "selected_df = pd.merge(X_selected, y, how = 'left', left_index = True, right_index = True)"
   ]
  },
  {
   "cell_type": "code",
   "execution_count": 72,
   "metadata": {},
   "outputs": [],
   "source": [
    "df_median = selected_df.groupby(by = 'airline_cat').median()"
   ]
  },
  {
   "cell_type": "code",
   "execution_count": 73,
   "metadata": {},
   "outputs": [],
   "source": [
    "df_median.dropna(inplace=True)"
   ]
  },
  {
   "cell_type": "code",
   "execution_count": 74,
   "metadata": {},
   "outputs": [
    {
     "data": {
      "text/plain": [
       "Index(['duration_descent', 'avg_speed_descent', 'std_speed_descent',\n",
       "       'avg_vertrate_speed_descent', 'std_vertrate_speed_descent',\n",
       "       'temp_c_descent', 'dewpoint_c_descent', 'wind_spind_kt_descent',\n",
       "       'avg_speed_cruise', 'std_speed_cruise', 'avg_vertrate_speed_cruise',\n",
       "       'std_vertrate_speed_cruise', 'mean_altitude_cruise',\n",
       "       'std_altitude_cruise', 'duration_climb', 'avg_speed_climb',\n",
       "       'std_speed_climb', 'avg_vertrate_speed_climb',\n",
       "       'std_vertrate_speed_climb', 'temp_c_climb', 'dewpoint_c_climb'],\n",
       "      dtype='object')"
      ]
     },
     "execution_count": 74,
     "metadata": {},
     "output_type": "execute_result"
    }
   ],
   "source": [
    "df_median.columns"
   ]
  },
  {
   "cell_type": "code",
   "execution_count": 77,
   "metadata": {},
   "outputs": [],
   "source": [
    "df_median_values = df_median.values\n",
    "scaler = MaxAbsScaler().fit(df_median_values)\n",
    "df_median_scaled = scaler.fit_transform(df_median_values)\n",
    "df_median_scaled = pd.DataFrame(df_median_scaled)"
   ]
  },
  {
   "cell_type": "code",
   "execution_count": 80,
   "metadata": {},
   "outputs": [
    {
     "data": {
      "image/png": "[encoded data removed]",
      "text/plain": [
       "<Figure size 432x288 with 1 Axes>"
      ]
     },
     "metadata": {
      "needs_background": "light"
     },
     "output_type": "display_data"
    },
    {
     "data": {
      "image/png": "[encoded data removed]",
      "text/plain": [
       "<Figure size 432x288 with 1 Axes>"
      ]
     },
     "metadata": {
      "needs_background": "light"
     },
     "output_type": "display_data"
    }
   ],
   "source": [
    "Z = linkage(df_median_scaled,method='ward',metric='euclidean')\n",
    "threshold = 1\n",
    "plt.title(\"CAH\")\n",
    "dendrogram(Z,labels=df_median.index,orientation='right',color_threshold=0)\n",
    "plt.show()\n",
    "plt.title('CAH')\n",
    "dendrogram(Z,labels=df_median.index,orientation='right',color_threshold=threshold)\n",
    "plt.savefig('cah.svg')"
   ]
  },
  {
   "cell_type": "code",
   "execution_count": 79,
   "metadata": {},
   "outputs": [
    {
     "name": "stdout",
     "output_type": "stream",
     "text": [
      "[12  7  4 10 12  8  8  2 12  4  4 11  4  3  6 10 10  9  9  8  6  5 12 12\n",
      "  1  1  9  5  4 12  9  4 10 10  4  4  4 12  6  3 11 11  4  7  7  2  1  9\n",
      "  2 11 10 11  9  7  6  6  4 10 10  2 11 10 10]\n"
     ]
    }
   ],
   "source": [
    "import numpy as np\n",
    "import pandas\n",
    "groupes_cah = fcluster(Z,t=threshold,criterion='distance')\n",
    "print(groupes_cah)"
   ]
  },
  {
   "cell_type": "code",
   "execution_count": 82,
   "metadata": {
    "scrolled": true
   },
   "outputs": [],
   "source": [
    "idg = np.argsort(groupes_cah)\n",
    "df1 = pandas.DataFrame(df_median.index[idg],groupes_cah[idg])\n",
    "df2 = pd.DataFrame.from_dict(airlines_decoder, orient='index')"
   ]
  },
  {
   "cell_type": "code",
   "execution_count": 83,
   "metadata": {},
   "outputs": [],
   "source": [
    "classif = pd.merge(df1, df2, how = 'left', left_on = 'airline_cat', right_index = True)"
   ]
  },
  {
   "cell_type": "code",
   "execution_count": 84,
   "metadata": {},
   "outputs": [],
   "source": [
    "df_median['group'] = groupes_cah\n",
    "df_median_scaled['group'] = groupes_cah\n",
    "feature_diff = df_median_scaled.groupby('group').median().std()"
   ]
  },
  {
   "cell_type": "code",
   "execution_count": 85,
   "metadata": {},
   "outputs": [],
   "source": [
    "idx = feature_diff.sort_values(ascending=False).index"
   ]
  },
  {
   "cell_type": "code",
   "execution_count": 86,
   "metadata": {},
   "outputs": [],
   "source": [
    "columns_sorted = np.take(np.array(columns_remained),idx)"
   ]
  },
  {
   "cell_type": "code",
   "execution_count": 91,
   "metadata": {},
   "outputs": [],
   "source": [
    "# sort the result by the importance of features\n",
    "importance_column = df_median.groupby('group').median().loc[:,columns_sorted]\n",
    "with open('classification_stats_importance.csv', 'w') as f:\n",
    "    f.write(importance_column.to_csv())"
   ]
  },
  {
   "cell_type": "code",
   "execution_count": 92,
   "metadata": {},
   "outputs": [],
   "source": [
    "pandas.set_option('display.max_rows', 63)\n",
    "with open('classification.csv','w') as f:\n",
    "    f.write(classif.to_csv())"
   ]
  }
 ],
 "metadata": {
  "kernelspec": {
   "display_name": "Python 3",
   "language": "python",
   "name": "python3"
  },
  "language_info": {
   "codemirror_mode": {
    "name": "ipython",
    "version": 3
   },
   "file_extension": ".py",
   "mimetype": "text/x-python",
   "name": "python",
   "nbconvert_exporter": "python",
   "pygments_lexer": "ipython3",
   "version": "3.8.5"
  }
 },
 "nbformat": 4,
 "nbformat_minor": 4
}
