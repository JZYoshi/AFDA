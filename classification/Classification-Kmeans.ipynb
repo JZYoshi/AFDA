{
 "cells": [
  {
   "cell_type": "markdown",
   "metadata": {},
   "source": [
    "# Feature Selection and Classification using Random Forest and HAC"
   ]
  },
  {
   "cell_type": "markdown",
   "metadata": {},
   "source": [
    "In this notebook, the 24-hour flight data is used to conduct the classification."
   ]
  },
  {
   "cell_type": "code",
   "execution_count": 1,
   "metadata": {},
   "outputs": [],
   "source": [
    "import matplotlib.pyplot as plt\n",
    "import seaborn as sns\n",
    "from sklearn.model_selection import cross_val_score\n",
    "from sklearn.model_selection import ShuffleSplit\n",
    "from sklearn.model_selection import train_test_split\n",
    "from sklearn import preprocessing\n",
    "from sklearn.ensemble import RandomForestClassifier\n",
    "from sklearn.feature_selection import SelectFromModel\n",
    "from sklearn.metrics import accuracy_score\n",
    "from scipy.cluster.hierarchy import ward, fcluster\n",
    "from scipy.cluster.hierarchy import dendrogram, linkage\n",
    "from sklearn.preprocessing import RobustScaler"
   ]
  },
  {
   "cell_type": "code",
   "execution_count": 245,
   "metadata": {},
   "outputs": [],
   "source": [
    "%run \"../flight phase on dataset/db.py\"\n",
    "df = db_to_pandas(filename='testDB2.db')\n",
    "#df.dropna(inplace=True)\n",
    "df.drop(columns=['icao'],inplace=True)"
   ]
  },
  {
   "cell_type": "code",
   "execution_count": 278,
   "metadata": {},
   "outputs": [],
   "source": [
    "df = pd.read_csv('descriptors.csv').drop(columns=['icao','icao_airline'])"
   ]
  },
  {
   "cell_type": "code",
   "execution_count": 374,
   "metadata": {},
   "outputs": [
    {
     "data": {
      "text/html": [
       "<div>\n",
       "<style scoped>\n",
       "    .dataframe tbody tr th:only-of-type {\n",
       "        vertical-align: middle;\n",
       "    }\n",
       "\n",
       "    .dataframe tbody tr th {\n",
       "        vertical-align: top;\n",
       "    }\n",
       "\n",
       "    .dataframe thead th {\n",
       "        text-align: right;\n",
       "    }\n",
       "</style>\n",
       "<table border=\"1\" class=\"dataframe\">\n",
       "  <thead>\n",
       "    <tr style=\"text-align: right;\">\n",
       "      <th></th>\n",
       "      <th>flight_id</th>\n",
       "      <th>airline</th>\n",
       "      <th>duration_descent</th>\n",
       "      <th>avg_speed_descent</th>\n",
       "      <th>std_speed_descent</th>\n",
       "      <th>avg_vertrate_speed_descent</th>\n",
       "      <th>std_vertrate_speed_descent</th>\n",
       "      <th>max_spd_descent</th>\n",
       "      <th>min_spd_descent</th>\n",
       "      <th>max_vertrate_speed_descent</th>\n",
       "      <th>...</th>\n",
       "      <th>duration_climb</th>\n",
       "      <th>avg_speed_climb</th>\n",
       "      <th>std_speed_climb</th>\n",
       "      <th>avg_vertrate_speed_climb</th>\n",
       "      <th>std_vertrate_speed_climb</th>\n",
       "      <th>max_spd_climb</th>\n",
       "      <th>min_spd_climb</th>\n",
       "      <th>max_vertrate_speed_climb</th>\n",
       "      <th>min_vertrate_speed_climb</th>\n",
       "      <th>airline_cat</th>\n",
       "    </tr>\n",
       "  </thead>\n",
       "  <tbody>\n",
       "    <tr>\n",
       "      <th>14</th>\n",
       "      <td>15</td>\n",
       "      <td>NaN</td>\n",
       "      <td>NaN</td>\n",
       "      <td>NaN</td>\n",
       "      <td>NaN</td>\n",
       "      <td>NaN</td>\n",
       "      <td>NaN</td>\n",
       "      <td>NaN</td>\n",
       "      <td>NaN</td>\n",
       "      <td>NaN</td>\n",
       "      <td>...</td>\n",
       "      <td>NaN</td>\n",
       "      <td>NaN</td>\n",
       "      <td>NaN</td>\n",
       "      <td>NaN</td>\n",
       "      <td>NaN</td>\n",
       "      <td>NaN</td>\n",
       "      <td>NaN</td>\n",
       "      <td>NaN</td>\n",
       "      <td>NaN</td>\n",
       "      <td>-1</td>\n",
       "    </tr>\n",
       "    <tr>\n",
       "      <th>132</th>\n",
       "      <td>133</td>\n",
       "      <td>NaN</td>\n",
       "      <td>NaN</td>\n",
       "      <td>NaN</td>\n",
       "      <td>NaN</td>\n",
       "      <td>NaN</td>\n",
       "      <td>NaN</td>\n",
       "      <td>NaN</td>\n",
       "      <td>NaN</td>\n",
       "      <td>NaN</td>\n",
       "      <td>...</td>\n",
       "      <td>1400.0</td>\n",
       "      <td>204.332157</td>\n",
       "      <td>35.422354</td>\n",
       "      <td>7.968039</td>\n",
       "      <td>3.205466</td>\n",
       "      <td>236.48</td>\n",
       "      <td>104.51</td>\n",
       "      <td>17.56</td>\n",
       "      <td>3.90</td>\n",
       "      <td>-1</td>\n",
       "    </tr>\n",
       "    <tr>\n",
       "      <th>151</th>\n",
       "      <td>152</td>\n",
       "      <td>NaN</td>\n",
       "      <td>1720.0</td>\n",
       "      <td>185.456375</td>\n",
       "      <td>73.529461</td>\n",
       "      <td>-6.393500</td>\n",
       "      <td>3.852681</td>\n",
       "      <td>283.22</td>\n",
       "      <td>63.26</td>\n",
       "      <td>1.63</td>\n",
       "      <td>...</td>\n",
       "      <td>NaN</td>\n",
       "      <td>NaN</td>\n",
       "      <td>NaN</td>\n",
       "      <td>NaN</td>\n",
       "      <td>NaN</td>\n",
       "      <td>NaN</td>\n",
       "      <td>NaN</td>\n",
       "      <td>NaN</td>\n",
       "      <td>NaN</td>\n",
       "      <td>-1</td>\n",
       "    </tr>\n",
       "    <tr>\n",
       "      <th>227</th>\n",
       "      <td>228</td>\n",
       "      <td>NaN</td>\n",
       "      <td>2150.0</td>\n",
       "      <td>164.249238</td>\n",
       "      <td>80.861274</td>\n",
       "      <td>-5.654857</td>\n",
       "      <td>3.520464</td>\n",
       "      <td>296.90</td>\n",
       "      <td>52.97</td>\n",
       "      <td>0.00</td>\n",
       "      <td>...</td>\n",
       "      <td>NaN</td>\n",
       "      <td>NaN</td>\n",
       "      <td>NaN</td>\n",
       "      <td>NaN</td>\n",
       "      <td>NaN</td>\n",
       "      <td>NaN</td>\n",
       "      <td>NaN</td>\n",
       "      <td>NaN</td>\n",
       "      <td>NaN</td>\n",
       "      <td>-1</td>\n",
       "    </tr>\n",
       "    <tr>\n",
       "      <th>232</th>\n",
       "      <td>233</td>\n",
       "      <td>NaN</td>\n",
       "      <td>NaN</td>\n",
       "      <td>NaN</td>\n",
       "      <td>NaN</td>\n",
       "      <td>NaN</td>\n",
       "      <td>NaN</td>\n",
       "      <td>NaN</td>\n",
       "      <td>NaN</td>\n",
       "      <td>NaN</td>\n",
       "      <td>...</td>\n",
       "      <td>1061.0</td>\n",
       "      <td>206.396863</td>\n",
       "      <td>40.120096</td>\n",
       "      <td>9.657843</td>\n",
       "      <td>4.611813</td>\n",
       "      <td>241.81</td>\n",
       "      <td>78.74</td>\n",
       "      <td>21.13</td>\n",
       "      <td>0.00</td>\n",
       "      <td>-1</td>\n",
       "    </tr>\n",
       "    <tr>\n",
       "      <th>...</th>\n",
       "      <td>...</td>\n",
       "      <td>...</td>\n",
       "      <td>...</td>\n",
       "      <td>...</td>\n",
       "      <td>...</td>\n",
       "      <td>...</td>\n",
       "      <td>...</td>\n",
       "      <td>...</td>\n",
       "      <td>...</td>\n",
       "      <td>...</td>\n",
       "      <td>...</td>\n",
       "      <td>...</td>\n",
       "      <td>...</td>\n",
       "      <td>...</td>\n",
       "      <td>...</td>\n",
       "      <td>...</td>\n",
       "      <td>...</td>\n",
       "      <td>...</td>\n",
       "      <td>...</td>\n",
       "      <td>...</td>\n",
       "      <td>...</td>\n",
       "    </tr>\n",
       "    <tr>\n",
       "      <th>14666</th>\n",
       "      <td>4705</td>\n",
       "      <td>NaN</td>\n",
       "      <td>1720.0</td>\n",
       "      <td>163.239770</td>\n",
       "      <td>80.793064</td>\n",
       "      <td>-6.734253</td>\n",
       "      <td>3.969761</td>\n",
       "      <td>296.80</td>\n",
       "      <td>69.88</td>\n",
       "      <td>0.00</td>\n",
       "      <td>...</td>\n",
       "      <td>NaN</td>\n",
       "      <td>NaN</td>\n",
       "      <td>NaN</td>\n",
       "      <td>NaN</td>\n",
       "      <td>NaN</td>\n",
       "      <td>NaN</td>\n",
       "      <td>NaN</td>\n",
       "      <td>NaN</td>\n",
       "      <td>NaN</td>\n",
       "      <td>-1</td>\n",
       "    </tr>\n",
       "    <tr>\n",
       "      <th>14668</th>\n",
       "      <td>4707</td>\n",
       "      <td>NaN</td>\n",
       "      <td>1859.0</td>\n",
       "      <td>178.947326</td>\n",
       "      <td>65.532168</td>\n",
       "      <td>-6.862442</td>\n",
       "      <td>3.979940</td>\n",
       "      <td>258.11</td>\n",
       "      <td>81.75</td>\n",
       "      <td>0.33</td>\n",
       "      <td>...</td>\n",
       "      <td>NaN</td>\n",
       "      <td>NaN</td>\n",
       "      <td>NaN</td>\n",
       "      <td>NaN</td>\n",
       "      <td>NaN</td>\n",
       "      <td>NaN</td>\n",
       "      <td>NaN</td>\n",
       "      <td>NaN</td>\n",
       "      <td>NaN</td>\n",
       "      <td>-1</td>\n",
       "    </tr>\n",
       "    <tr>\n",
       "      <th>14674</th>\n",
       "      <td>4713</td>\n",
       "      <td>NaN</td>\n",
       "      <td>1600.0</td>\n",
       "      <td>168.567564</td>\n",
       "      <td>54.453090</td>\n",
       "      <td>-7.095000</td>\n",
       "      <td>4.877655</td>\n",
       "      <td>241.17</td>\n",
       "      <td>72.49</td>\n",
       "      <td>0.00</td>\n",
       "      <td>...</td>\n",
       "      <td>NaN</td>\n",
       "      <td>NaN</td>\n",
       "      <td>NaN</td>\n",
       "      <td>NaN</td>\n",
       "      <td>NaN</td>\n",
       "      <td>NaN</td>\n",
       "      <td>NaN</td>\n",
       "      <td>NaN</td>\n",
       "      <td>NaN</td>\n",
       "      <td>-1</td>\n",
       "    </tr>\n",
       "    <tr>\n",
       "      <th>14885</th>\n",
       "      <td>4924</td>\n",
       "      <td>NaN</td>\n",
       "      <td>NaN</td>\n",
       "      <td>NaN</td>\n",
       "      <td>NaN</td>\n",
       "      <td>NaN</td>\n",
       "      <td>NaN</td>\n",
       "      <td>NaN</td>\n",
       "      <td>NaN</td>\n",
       "      <td>NaN</td>\n",
       "      <td>...</td>\n",
       "      <td>1240.0</td>\n",
       "      <td>205.680317</td>\n",
       "      <td>48.202400</td>\n",
       "      <td>9.846667</td>\n",
       "      <td>4.727823</td>\n",
       "      <td>255.26</td>\n",
       "      <td>80.36</td>\n",
       "      <td>22.11</td>\n",
       "      <td>0.33</td>\n",
       "      <td>-1</td>\n",
       "    </tr>\n",
       "    <tr>\n",
       "      <th>14925</th>\n",
       "      <td>4964</td>\n",
       "      <td>NaN</td>\n",
       "      <td>1549.0</td>\n",
       "      <td>156.768824</td>\n",
       "      <td>48.620899</td>\n",
       "      <td>-8.246324</td>\n",
       "      <td>3.464417</td>\n",
       "      <td>217.37</td>\n",
       "      <td>61.91</td>\n",
       "      <td>0.00</td>\n",
       "      <td>...</td>\n",
       "      <td>NaN</td>\n",
       "      <td>NaN</td>\n",
       "      <td>NaN</td>\n",
       "      <td>NaN</td>\n",
       "      <td>NaN</td>\n",
       "      <td>NaN</td>\n",
       "      <td>NaN</td>\n",
       "      <td>NaN</td>\n",
       "      <td>NaN</td>\n",
       "      <td>-1</td>\n",
       "    </tr>\n",
       "  </tbody>\n",
       "</table>\n",
       "<p>341 rows × 32 columns</p>\n",
       "</div>"
      ],
      "text/plain": [
       "       flight_id airline  duration_descent  avg_speed_descent  \\\n",
       "14            15     NaN               NaN                NaN   \n",
       "132          133     NaN               NaN                NaN   \n",
       "151          152     NaN            1720.0         185.456375   \n",
       "227          228     NaN            2150.0         164.249238   \n",
       "232          233     NaN               NaN                NaN   \n",
       "...          ...     ...               ...                ...   \n",
       "14666       4705     NaN            1720.0         163.239770   \n",
       "14668       4707     NaN            1859.0         178.947326   \n",
       "14674       4713     NaN            1600.0         168.567564   \n",
       "14885       4924     NaN               NaN                NaN   \n",
       "14925       4964     NaN            1549.0         156.768824   \n",
       "\n",
       "       std_speed_descent  avg_vertrate_speed_descent  \\\n",
       "14                   NaN                         NaN   \n",
       "132                  NaN                         NaN   \n",
       "151            73.529461                   -6.393500   \n",
       "227            80.861274                   -5.654857   \n",
       "232                  NaN                         NaN   \n",
       "...                  ...                         ...   \n",
       "14666          80.793064                   -6.734253   \n",
       "14668          65.532168                   -6.862442   \n",
       "14674          54.453090                   -7.095000   \n",
       "14885                NaN                         NaN   \n",
       "14925          48.620899                   -8.246324   \n",
       "\n",
       "       std_vertrate_speed_descent  max_spd_descent  min_spd_descent  \\\n",
       "14                            NaN              NaN              NaN   \n",
       "132                           NaN              NaN              NaN   \n",
       "151                      3.852681           283.22            63.26   \n",
       "227                      3.520464           296.90            52.97   \n",
       "232                           NaN              NaN              NaN   \n",
       "...                           ...              ...              ...   \n",
       "14666                    3.969761           296.80            69.88   \n",
       "14668                    3.979940           258.11            81.75   \n",
       "14674                    4.877655           241.17            72.49   \n",
       "14885                         NaN              NaN              NaN   \n",
       "14925                    3.464417           217.37            61.91   \n",
       "\n",
       "       max_vertrate_speed_descent  ...  duration_climb  avg_speed_climb  \\\n",
       "14                            NaN  ...             NaN              NaN   \n",
       "132                           NaN  ...          1400.0       204.332157   \n",
       "151                          1.63  ...             NaN              NaN   \n",
       "227                          0.00  ...             NaN              NaN   \n",
       "232                           NaN  ...          1061.0       206.396863   \n",
       "...                           ...  ...             ...              ...   \n",
       "14666                        0.00  ...             NaN              NaN   \n",
       "14668                        0.33  ...             NaN              NaN   \n",
       "14674                        0.00  ...             NaN              NaN   \n",
       "14885                         NaN  ...          1240.0       205.680317   \n",
       "14925                        0.00  ...             NaN              NaN   \n",
       "\n",
       "       std_speed_climb  avg_vertrate_speed_climb  std_vertrate_speed_climb  \\\n",
       "14                 NaN                       NaN                       NaN   \n",
       "132          35.422354                  7.968039                  3.205466   \n",
       "151                NaN                       NaN                       NaN   \n",
       "227                NaN                       NaN                       NaN   \n",
       "232          40.120096                  9.657843                  4.611813   \n",
       "...                ...                       ...                       ...   \n",
       "14666              NaN                       NaN                       NaN   \n",
       "14668              NaN                       NaN                       NaN   \n",
       "14674              NaN                       NaN                       NaN   \n",
       "14885        48.202400                  9.846667                  4.727823   \n",
       "14925              NaN                       NaN                       NaN   \n",
       "\n",
       "       max_spd_climb  min_spd_climb  max_vertrate_speed_climb  \\\n",
       "14               NaN            NaN                       NaN   \n",
       "132           236.48         104.51                     17.56   \n",
       "151              NaN            NaN                       NaN   \n",
       "227              NaN            NaN                       NaN   \n",
       "232           241.81          78.74                     21.13   \n",
       "...              ...            ...                       ...   \n",
       "14666            NaN            NaN                       NaN   \n",
       "14668            NaN            NaN                       NaN   \n",
       "14674            NaN            NaN                       NaN   \n",
       "14885         255.26          80.36                     22.11   \n",
       "14925            NaN            NaN                       NaN   \n",
       "\n",
       "       min_vertrate_speed_climb  airline_cat  \n",
       "14                          NaN           -1  \n",
       "132                        3.90           -1  \n",
       "151                         NaN           -1  \n",
       "227                         NaN           -1  \n",
       "232                        0.00           -1  \n",
       "...                         ...          ...  \n",
       "14666                       NaN           -1  \n",
       "14668                       NaN           -1  \n",
       "14674                       NaN           -1  \n",
       "14885                      0.33           -1  \n",
       "14925                       NaN           -1  \n",
       "\n",
       "[341 rows x 32 columns]"
      ]
     },
     "execution_count": 374,
     "metadata": {},
     "output_type": "execute_result"
    }
   ],
   "source": [
    "df[df['airline'].isna()]"
   ]
  },
  {
   "cell_type": "code",
   "execution_count": 372,
   "metadata": {},
   "outputs": [
    {
     "data": {
      "text/plain": [
       "American Airlines       2150\n",
       "Delta Air Lines         1164\n",
       "LATAM Brasil             825\n",
       "United Airlines          695\n",
       "JetBlue Airways          665\n",
       "                        ... \n",
       "Atlantic Airways           1\n",
       "Sky Wings Airlines         1\n",
       "Airbus Industrie           1\n",
       "AirAsia Japan              1\n",
       "Syrian Arab Airlines       1\n",
       "Name: airline, Length: 163, dtype: int64"
      ]
     },
     "execution_count": 372,
     "metadata": {},
     "output_type": "execute_result"
    }
   ],
   "source": [
    "df['airline'].value_counts()"
   ]
  },
  {
   "cell_type": "code",
   "execution_count": 281,
   "metadata": {},
   "outputs": [
    {
     "data": {
      "text/html": [
       "<div>\n",
       "<style scoped>\n",
       "    .dataframe tbody tr th:only-of-type {\n",
       "        vertical-align: middle;\n",
       "    }\n",
       "\n",
       "    .dataframe tbody tr th {\n",
       "        vertical-align: top;\n",
       "    }\n",
       "\n",
       "    .dataframe thead th {\n",
       "        text-align: right;\n",
       "    }\n",
       "</style>\n",
       "<table border=\"1\" class=\"dataframe\">\n",
       "  <thead>\n",
       "    <tr style=\"text-align: right;\">\n",
       "      <th></th>\n",
       "      <th>duration_descent</th>\n",
       "      <th>avg_speed_descent</th>\n",
       "      <th>std_speed_descent</th>\n",
       "      <th>avg_vertrate_speed_descent</th>\n",
       "      <th>std_vertrate_speed_descent</th>\n",
       "      <th>max_spd_descent</th>\n",
       "      <th>min_spd_descent</th>\n",
       "      <th>max_vertrate_speed_descent</th>\n",
       "      <th>min_vertrate_speed_descent</th>\n",
       "      <th>duration_cruise</th>\n",
       "      <th>...</th>\n",
       "      <th>duration_climb</th>\n",
       "      <th>avg_speed_climb</th>\n",
       "      <th>std_speed_climb</th>\n",
       "      <th>avg_vertrate_speed_climb</th>\n",
       "      <th>std_vertrate_speed_climb</th>\n",
       "      <th>max_spd_climb</th>\n",
       "      <th>min_spd_climb</th>\n",
       "      <th>max_vertrate_speed_climb</th>\n",
       "      <th>min_vertrate_speed_climb</th>\n",
       "      <th>airline_cat</th>\n",
       "    </tr>\n",
       "    <tr>\n",
       "      <th>flight_id</th>\n",
       "      <th></th>\n",
       "      <th></th>\n",
       "      <th></th>\n",
       "      <th></th>\n",
       "      <th></th>\n",
       "      <th></th>\n",
       "      <th></th>\n",
       "      <th></th>\n",
       "      <th></th>\n",
       "      <th></th>\n",
       "      <th></th>\n",
       "      <th></th>\n",
       "      <th></th>\n",
       "      <th></th>\n",
       "      <th></th>\n",
       "      <th></th>\n",
       "      <th></th>\n",
       "      <th></th>\n",
       "      <th></th>\n",
       "      <th></th>\n",
       "      <th></th>\n",
       "    </tr>\n",
       "  </thead>\n",
       "  <tbody>\n",
       "    <tr>\n",
       "      <th>1</th>\n",
       "      <td>NaN</td>\n",
       "      <td>NaN</td>\n",
       "      <td>NaN</td>\n",
       "      <td>NaN</td>\n",
       "      <td>NaN</td>\n",
       "      <td>NaN</td>\n",
       "      <td>NaN</td>\n",
       "      <td>NaN</td>\n",
       "      <td>NaN</td>\n",
       "      <td>NaN</td>\n",
       "      <td>...</td>\n",
       "      <td>1120.0</td>\n",
       "      <td>167.463860</td>\n",
       "      <td>29.203683</td>\n",
       "      <td>9.930351</td>\n",
       "      <td>5.284945</td>\n",
       "      <td>213.68</td>\n",
       "      <td>83.07</td>\n",
       "      <td>23.41</td>\n",
       "      <td>0.65</td>\n",
       "      <td>37</td>\n",
       "    </tr>\n",
       "    <tr>\n",
       "      <th>2</th>\n",
       "      <td>NaN</td>\n",
       "      <td>NaN</td>\n",
       "      <td>NaN</td>\n",
       "      <td>NaN</td>\n",
       "      <td>NaN</td>\n",
       "      <td>NaN</td>\n",
       "      <td>NaN</td>\n",
       "      <td>NaN</td>\n",
       "      <td>NaN</td>\n",
       "      <td>NaN</td>\n",
       "      <td>...</td>\n",
       "      <td>940.0</td>\n",
       "      <td>200.185000</td>\n",
       "      <td>27.145622</td>\n",
       "      <td>9.664375</td>\n",
       "      <td>4.765878</td>\n",
       "      <td>234.28</td>\n",
       "      <td>126.93</td>\n",
       "      <td>22.76</td>\n",
       "      <td>-0.33</td>\n",
       "      <td>132</td>\n",
       "    </tr>\n",
       "    <tr>\n",
       "      <th>3</th>\n",
       "      <td>NaN</td>\n",
       "      <td>NaN</td>\n",
       "      <td>NaN</td>\n",
       "      <td>NaN</td>\n",
       "      <td>NaN</td>\n",
       "      <td>NaN</td>\n",
       "      <td>NaN</td>\n",
       "      <td>NaN</td>\n",
       "      <td>NaN</td>\n",
       "      <td>10410.0</td>\n",
       "      <td>...</td>\n",
       "      <td>NaN</td>\n",
       "      <td>NaN</td>\n",
       "      <td>NaN</td>\n",
       "      <td>NaN</td>\n",
       "      <td>NaN</td>\n",
       "      <td>NaN</td>\n",
       "      <td>NaN</td>\n",
       "      <td>NaN</td>\n",
       "      <td>NaN</td>\n",
       "      <td>143</td>\n",
       "    </tr>\n",
       "    <tr>\n",
       "      <th>4</th>\n",
       "      <td>NaN</td>\n",
       "      <td>NaN</td>\n",
       "      <td>NaN</td>\n",
       "      <td>NaN</td>\n",
       "      <td>NaN</td>\n",
       "      <td>NaN</td>\n",
       "      <td>NaN</td>\n",
       "      <td>NaN</td>\n",
       "      <td>NaN</td>\n",
       "      <td>810.0</td>\n",
       "      <td>...</td>\n",
       "      <td>NaN</td>\n",
       "      <td>NaN</td>\n",
       "      <td>NaN</td>\n",
       "      <td>NaN</td>\n",
       "      <td>NaN</td>\n",
       "      <td>NaN</td>\n",
       "      <td>NaN</td>\n",
       "      <td>NaN</td>\n",
       "      <td>NaN</td>\n",
       "      <td>127</td>\n",
       "    </tr>\n",
       "    <tr>\n",
       "      <th>5</th>\n",
       "      <td>NaN</td>\n",
       "      <td>NaN</td>\n",
       "      <td>NaN</td>\n",
       "      <td>NaN</td>\n",
       "      <td>NaN</td>\n",
       "      <td>NaN</td>\n",
       "      <td>NaN</td>\n",
       "      <td>NaN</td>\n",
       "      <td>NaN</td>\n",
       "      <td>1360.0</td>\n",
       "      <td>...</td>\n",
       "      <td>1000.0</td>\n",
       "      <td>195.157255</td>\n",
       "      <td>44.359372</td>\n",
       "      <td>10.531373</td>\n",
       "      <td>3.977624</td>\n",
       "      <td>235.11</td>\n",
       "      <td>69.63</td>\n",
       "      <td>19.18</td>\n",
       "      <td>4.23</td>\n",
       "      <td>113</td>\n",
       "    </tr>\n",
       "  </tbody>\n",
       "</table>\n",
       "<p>5 rows × 30 columns</p>\n",
       "</div>"
      ],
      "text/plain": [
       "           duration_descent  avg_speed_descent  std_speed_descent  \\\n",
       "flight_id                                                           \n",
       "1                       NaN                NaN                NaN   \n",
       "2                       NaN                NaN                NaN   \n",
       "3                       NaN                NaN                NaN   \n",
       "4                       NaN                NaN                NaN   \n",
       "5                       NaN                NaN                NaN   \n",
       "\n",
       "           avg_vertrate_speed_descent  std_vertrate_speed_descent  \\\n",
       "flight_id                                                           \n",
       "1                                 NaN                         NaN   \n",
       "2                                 NaN                         NaN   \n",
       "3                                 NaN                         NaN   \n",
       "4                                 NaN                         NaN   \n",
       "5                                 NaN                         NaN   \n",
       "\n",
       "           max_spd_descent  min_spd_descent  max_vertrate_speed_descent  \\\n",
       "flight_id                                                                 \n",
       "1                      NaN              NaN                         NaN   \n",
       "2                      NaN              NaN                         NaN   \n",
       "3                      NaN              NaN                         NaN   \n",
       "4                      NaN              NaN                         NaN   \n",
       "5                      NaN              NaN                         NaN   \n",
       "\n",
       "           min_vertrate_speed_descent  duration_cruise  ...  duration_climb  \\\n",
       "flight_id                                               ...                   \n",
       "1                                 NaN              NaN  ...          1120.0   \n",
       "2                                 NaN              NaN  ...           940.0   \n",
       "3                                 NaN          10410.0  ...             NaN   \n",
       "4                                 NaN            810.0  ...             NaN   \n",
       "5                                 NaN           1360.0  ...          1000.0   \n",
       "\n",
       "           avg_speed_climb  std_speed_climb  avg_vertrate_speed_climb  \\\n",
       "flight_id                                                               \n",
       "1               167.463860        29.203683                  9.930351   \n",
       "2               200.185000        27.145622                  9.664375   \n",
       "3                      NaN              NaN                       NaN   \n",
       "4                      NaN              NaN                       NaN   \n",
       "5               195.157255        44.359372                 10.531373   \n",
       "\n",
       "           std_vertrate_speed_climb  max_spd_climb  min_spd_climb  \\\n",
       "flight_id                                                           \n",
       "1                          5.284945         213.68          83.07   \n",
       "2                          4.765878         234.28         126.93   \n",
       "3                               NaN            NaN            NaN   \n",
       "4                               NaN            NaN            NaN   \n",
       "5                          3.977624         235.11          69.63   \n",
       "\n",
       "           max_vertrate_speed_climb  min_vertrate_speed_climb  airline_cat  \n",
       "flight_id                                                                   \n",
       "1                             23.41                      0.65           37  \n",
       "2                             22.76                     -0.33          132  \n",
       "3                               NaN                       NaN          143  \n",
       "4                               NaN                       NaN          127  \n",
       "5                             19.18                      4.23          113  \n",
       "\n",
       "[5 rows x 30 columns]"
      ]
     },
     "execution_count": 281,
     "metadata": {},
     "output_type": "execute_result"
    }
   ],
   "source": [
    "# Here categorical codes are added in the dataframe for airlines\n",
    "df[\"airline\"] = df[\"airline\"].astype('category')\n",
    "df[\"airline_cat\"]=df[\"airline\"].cat.codes\n",
    "df_noairline = df.drop(columns=['airline'])\n",
    "df_noairline.set_index('flight_id',inplace=True)\n",
    "df_noairline.head()"
   ]
  },
  {
   "cell_type": "code",
   "execution_count": 282,
   "metadata": {},
   "outputs": [],
   "source": [
    "# The dictionary of airline and their codes\n",
    "airlines_decoder = dict(enumerate(df[\"airline\"].cat.categories))"
   ]
  },
  {
   "cell_type": "markdown",
   "metadata": {},
   "source": [
    "<div class=\"alert alert-block alert-warning\">\n",
    "<b>Hypothesis:</b> Only airlines with 10 logs or more are eligible for classification. So others will be excluded in the following analysis procedure.\n",
    "</div>"
   ]
  },
  {
   "cell_type": "code",
   "execution_count": 283,
   "metadata": {},
   "outputs": [],
   "source": [
    "filt_10log = df_noairline['airline_cat'].value_counts()>=25"
   ]
  },
  {
   "cell_type": "code",
   "execution_count": 284,
   "metadata": {},
   "outputs": [],
   "source": [
    "airline_list_cat = filt_10log[filt_10log.values==True].index"
   ]
  },
  {
   "cell_type": "code",
   "execution_count": 285,
   "metadata": {},
   "outputs": [],
   "source": [
    "df_filt_10log = df_noairline[df_noairline['airline_cat'].isin(airline_list_cat)]"
   ]
  },
  {
   "cell_type": "markdown",
   "metadata": {},
   "source": [
    "# Correlation between features"
   ]
  },
  {
   "cell_type": "code",
   "execution_count": 268,
   "metadata": {},
   "outputs": [
    {
     "data": {
      "text/plain": [
       "<AxesSubplot:>"
      ]
     },
     "execution_count": 268,
     "metadata": {},
     "output_type": "execute_result"
    },
    {
     "data": {
      "image/png": "[encoded data removed]",
      "text/plain": [
       "<Figure size 432x288 with 2 Axes>"
      ]
     },
     "metadata": {
      "needs_background": "light"
     },
     "output_type": "display_data"
    }
   ],
   "source": [
    "descent = ['duration_descent','avg_speed_descent','std_speed_descent','avg_vertrate_speed_descent','std_vertrate_speed_descent', 'max_spd_descent',\n",
    "       'min_spd_descent', 'max_vertrate_speed_descent',\n",
    "       'min_vertrate_speed_descent','airline_cat']\n",
    "sns.heatmap(df_noairline[descent].corr(),annot = True)"
   ]
  },
  {
   "cell_type": "code",
   "execution_count": 129,
   "metadata": {},
   "outputs": [
    {
     "ename": "KeyError",
     "evalue": "\"['duration_cruise', 'delta_h_cruise'] not in index\"",
     "output_type": "error",
     "traceback": [
      "\u001b[1;31m---------------------------------------------------------------------------\u001b[0m",
      "\u001b[1;31mKeyError\u001b[0m                                  Traceback (most recent call last)",
      "\u001b[1;32m<ipython-input-129-aaffa76cf4d4>\u001b[0m in \u001b[0;36m<module>\u001b[1;34m\u001b[0m\n\u001b[0;32m      5\u001b[0m        \u001b[1;34m'min_vertrate_speed_cruise'\u001b[0m\u001b[1;33m,\u001b[0m \u001b[1;34m'mean_altitude_cruise'\u001b[0m\u001b[1;33m,\u001b[0m\u001b[1;33m\u001b[0m\u001b[1;33m\u001b[0m\u001b[0m\n\u001b[0;32m      6\u001b[0m        'std_altitude_cruise','airline_cat']\n\u001b[1;32m----> 7\u001b[1;33m \u001b[0msns\u001b[0m\u001b[1;33m.\u001b[0m\u001b[0mheatmap\u001b[0m\u001b[1;33m(\u001b[0m\u001b[0mdf_noairline\u001b[0m\u001b[1;33m[\u001b[0m\u001b[0mcruise\u001b[0m\u001b[1;33m]\u001b[0m\u001b[1;33m.\u001b[0m\u001b[0mcorr\u001b[0m\u001b[1;33m(\u001b[0m\u001b[1;33m)\u001b[0m\u001b[1;33m,\u001b[0m\u001b[0mannot\u001b[0m \u001b[1;33m=\u001b[0m \u001b[1;32mTrue\u001b[0m\u001b[1;33m)\u001b[0m\u001b[1;33m\u001b[0m\u001b[1;33m\u001b[0m\u001b[0m\n\u001b[0m",
      "\u001b[1;32m~\\anaconda3\\lib\\site-packages\\pandas\\core\\frame.py\u001b[0m in \u001b[0;36m__getitem__\u001b[1;34m(self, key)\u001b[0m\n\u001b[0;32m   2804\u001b[0m             \u001b[1;32mif\u001b[0m \u001b[0mis_iterator\u001b[0m\u001b[1;33m(\u001b[0m\u001b[0mkey\u001b[0m\u001b[1;33m)\u001b[0m\u001b[1;33m:\u001b[0m\u001b[1;33m\u001b[0m\u001b[1;33m\u001b[0m\u001b[0m\n\u001b[0;32m   2805\u001b[0m                 \u001b[0mkey\u001b[0m \u001b[1;33m=\u001b[0m \u001b[0mlist\u001b[0m\u001b[1;33m(\u001b[0m\u001b[0mkey\u001b[0m\u001b[1;33m)\u001b[0m\u001b[1;33m\u001b[0m\u001b[1;33m\u001b[0m\u001b[0m\n\u001b[1;32m-> 2806\u001b[1;33m             \u001b[0mindexer\u001b[0m \u001b[1;33m=\u001b[0m \u001b[0mself\u001b[0m\u001b[1;33m.\u001b[0m\u001b[0mloc\u001b[0m\u001b[1;33m.\u001b[0m\u001b[0m_get_listlike_indexer\u001b[0m\u001b[1;33m(\u001b[0m\u001b[0mkey\u001b[0m\u001b[1;33m,\u001b[0m \u001b[0maxis\u001b[0m\u001b[1;33m=\u001b[0m\u001b[1;36m1\u001b[0m\u001b[1;33m,\u001b[0m \u001b[0mraise_missing\u001b[0m\u001b[1;33m=\u001b[0m\u001b[1;32mTrue\u001b[0m\u001b[1;33m)\u001b[0m\u001b[1;33m[\u001b[0m\u001b[1;36m1\u001b[0m\u001b[1;33m]\u001b[0m\u001b[1;33m\u001b[0m\u001b[1;33m\u001b[0m\u001b[0m\n\u001b[0m\u001b[0;32m   2807\u001b[0m \u001b[1;33m\u001b[0m\u001b[0m\n\u001b[0;32m   2808\u001b[0m         \u001b[1;31m# take() does not accept boolean indexers\u001b[0m\u001b[1;33m\u001b[0m\u001b[1;33m\u001b[0m\u001b[1;33m\u001b[0m\u001b[0m\n",
      "\u001b[1;32m~\\anaconda3\\lib\\site-packages\\pandas\\core\\indexing.py\u001b[0m in \u001b[0;36m_get_listlike_indexer\u001b[1;34m(self, key, axis, raise_missing)\u001b[0m\n\u001b[0;32m   1550\u001b[0m             \u001b[0mkeyarr\u001b[0m\u001b[1;33m,\u001b[0m \u001b[0mindexer\u001b[0m\u001b[1;33m,\u001b[0m \u001b[0mnew_indexer\u001b[0m \u001b[1;33m=\u001b[0m \u001b[0max\u001b[0m\u001b[1;33m.\u001b[0m\u001b[0m_reindex_non_unique\u001b[0m\u001b[1;33m(\u001b[0m\u001b[0mkeyarr\u001b[0m\u001b[1;33m)\u001b[0m\u001b[1;33m\u001b[0m\u001b[1;33m\u001b[0m\u001b[0m\n\u001b[0;32m   1551\u001b[0m \u001b[1;33m\u001b[0m\u001b[0m\n\u001b[1;32m-> 1552\u001b[1;33m         self._validate_read_indexer(\n\u001b[0m\u001b[0;32m   1553\u001b[0m             \u001b[0mkeyarr\u001b[0m\u001b[1;33m,\u001b[0m \u001b[0mindexer\u001b[0m\u001b[1;33m,\u001b[0m \u001b[0mo\u001b[0m\u001b[1;33m.\u001b[0m\u001b[0m_get_axis_number\u001b[0m\u001b[1;33m(\u001b[0m\u001b[0maxis\u001b[0m\u001b[1;33m)\u001b[0m\u001b[1;33m,\u001b[0m \u001b[0mraise_missing\u001b[0m\u001b[1;33m=\u001b[0m\u001b[0mraise_missing\u001b[0m\u001b[1;33m\u001b[0m\u001b[1;33m\u001b[0m\u001b[0m\n\u001b[0;32m   1554\u001b[0m         )\n",
      "\u001b[1;32m~\\anaconda3\\lib\\site-packages\\pandas\\core\\indexing.py\u001b[0m in \u001b[0;36m_validate_read_indexer\u001b[1;34m(self, key, indexer, axis, raise_missing)\u001b[0m\n\u001b[0;32m   1644\u001b[0m             \u001b[1;32mif\u001b[0m \u001b[1;32mnot\u001b[0m \u001b[1;33m(\u001b[0m\u001b[0mself\u001b[0m\u001b[1;33m.\u001b[0m\u001b[0mname\u001b[0m \u001b[1;33m==\u001b[0m \u001b[1;34m\"loc\"\u001b[0m \u001b[1;32mand\u001b[0m \u001b[1;32mnot\u001b[0m \u001b[0mraise_missing\u001b[0m\u001b[1;33m)\u001b[0m\u001b[1;33m:\u001b[0m\u001b[1;33m\u001b[0m\u001b[1;33m\u001b[0m\u001b[0m\n\u001b[0;32m   1645\u001b[0m                 \u001b[0mnot_found\u001b[0m \u001b[1;33m=\u001b[0m \u001b[0mlist\u001b[0m\u001b[1;33m(\u001b[0m\u001b[0mset\u001b[0m\u001b[1;33m(\u001b[0m\u001b[0mkey\u001b[0m\u001b[1;33m)\u001b[0m \u001b[1;33m-\u001b[0m \u001b[0mset\u001b[0m\u001b[1;33m(\u001b[0m\u001b[0max\u001b[0m\u001b[1;33m)\u001b[0m\u001b[1;33m)\u001b[0m\u001b[1;33m\u001b[0m\u001b[1;33m\u001b[0m\u001b[0m\n\u001b[1;32m-> 1646\u001b[1;33m                 \u001b[1;32mraise\u001b[0m \u001b[0mKeyError\u001b[0m\u001b[1;33m(\u001b[0m\u001b[1;34mf\"{not_found} not in index\"\u001b[0m\u001b[1;33m)\u001b[0m\u001b[1;33m\u001b[0m\u001b[1;33m\u001b[0m\u001b[0m\n\u001b[0m\u001b[0;32m   1647\u001b[0m \u001b[1;33m\u001b[0m\u001b[0m\n\u001b[0;32m   1648\u001b[0m             \u001b[1;31m# we skip the warning on Categorical/Interval\u001b[0m\u001b[1;33m\u001b[0m\u001b[1;33m\u001b[0m\u001b[1;33m\u001b[0m\u001b[0m\n",
      "\u001b[1;31mKeyError\u001b[0m: \"['duration_cruise', 'delta_h_cruise'] not in index\""
     ]
    }
   ],
   "source": [
    "cruise = ['duration_cruise', 'avg_speed_cruise',\n",
    "       'std_speed_cruise', 'avg_vertrate_speed_cruise',\n",
    "       'std_vertrate_speed_cruise', 'delta_h_cruise', 'max_spd_cruise',\n",
    "       'min_spd_cruise', 'max_vertrate_speed_cruise',\n",
    "       'min_vertrate_speed_cruise', 'mean_altitude_cruise',\n",
    "       'std_altitude_cruise','airline_cat']\n",
    "sns.heatmap(df_noairline[cruise].corr(),annot = True)"
   ]
  },
  {
   "cell_type": "code",
   "execution_count": 130,
   "metadata": {},
   "outputs": [
    {
     "ename": "KeyError",
     "evalue": "\"['delta_h_climb', 'duration_climb'] not in index\"",
     "output_type": "error",
     "traceback": [
      "\u001b[1;31m---------------------------------------------------------------------------\u001b[0m",
      "\u001b[1;31mKeyError\u001b[0m                                  Traceback (most recent call last)",
      "\u001b[1;32m<ipython-input-130-8515d0cc7781>\u001b[0m in \u001b[0;36m<module>\u001b[1;34m\u001b[0m\n\u001b[0;32m      4\u001b[0m        \u001b[1;34m'min_spd_climb'\u001b[0m\u001b[1;33m,\u001b[0m \u001b[1;34m'max_vertrate_speed_climb'\u001b[0m\u001b[1;33m,\u001b[0m \u001b[1;34m'min_vertrate_speed_climb'\u001b[0m\u001b[1;33m,\u001b[0m\u001b[1;33m\u001b[0m\u001b[1;33m\u001b[0m\u001b[0m\n\u001b[0;32m      5\u001b[0m        'airline_cat']\n\u001b[1;32m----> 6\u001b[1;33m \u001b[0msns\u001b[0m\u001b[1;33m.\u001b[0m\u001b[0mheatmap\u001b[0m\u001b[1;33m(\u001b[0m\u001b[0mdf_noairline\u001b[0m\u001b[1;33m[\u001b[0m\u001b[0mclimb\u001b[0m\u001b[1;33m]\u001b[0m\u001b[1;33m.\u001b[0m\u001b[0mcorr\u001b[0m\u001b[1;33m(\u001b[0m\u001b[1;33m)\u001b[0m\u001b[1;33m,\u001b[0m\u001b[0mannot\u001b[0m \u001b[1;33m=\u001b[0m \u001b[1;32mTrue\u001b[0m\u001b[1;33m)\u001b[0m\u001b[1;33m\u001b[0m\u001b[1;33m\u001b[0m\u001b[0m\n\u001b[0m",
      "\u001b[1;32m~\\anaconda3\\lib\\site-packages\\pandas\\core\\frame.py\u001b[0m in \u001b[0;36m__getitem__\u001b[1;34m(self, key)\u001b[0m\n\u001b[0;32m   2804\u001b[0m             \u001b[1;32mif\u001b[0m \u001b[0mis_iterator\u001b[0m\u001b[1;33m(\u001b[0m\u001b[0mkey\u001b[0m\u001b[1;33m)\u001b[0m\u001b[1;33m:\u001b[0m\u001b[1;33m\u001b[0m\u001b[1;33m\u001b[0m\u001b[0m\n\u001b[0;32m   2805\u001b[0m                 \u001b[0mkey\u001b[0m \u001b[1;33m=\u001b[0m \u001b[0mlist\u001b[0m\u001b[1;33m(\u001b[0m\u001b[0mkey\u001b[0m\u001b[1;33m)\u001b[0m\u001b[1;33m\u001b[0m\u001b[1;33m\u001b[0m\u001b[0m\n\u001b[1;32m-> 2806\u001b[1;33m             \u001b[0mindexer\u001b[0m \u001b[1;33m=\u001b[0m \u001b[0mself\u001b[0m\u001b[1;33m.\u001b[0m\u001b[0mloc\u001b[0m\u001b[1;33m.\u001b[0m\u001b[0m_get_listlike_indexer\u001b[0m\u001b[1;33m(\u001b[0m\u001b[0mkey\u001b[0m\u001b[1;33m,\u001b[0m \u001b[0maxis\u001b[0m\u001b[1;33m=\u001b[0m\u001b[1;36m1\u001b[0m\u001b[1;33m,\u001b[0m \u001b[0mraise_missing\u001b[0m\u001b[1;33m=\u001b[0m\u001b[1;32mTrue\u001b[0m\u001b[1;33m)\u001b[0m\u001b[1;33m[\u001b[0m\u001b[1;36m1\u001b[0m\u001b[1;33m]\u001b[0m\u001b[1;33m\u001b[0m\u001b[1;33m\u001b[0m\u001b[0m\n\u001b[0m\u001b[0;32m   2807\u001b[0m \u001b[1;33m\u001b[0m\u001b[0m\n\u001b[0;32m   2808\u001b[0m         \u001b[1;31m# take() does not accept boolean indexers\u001b[0m\u001b[1;33m\u001b[0m\u001b[1;33m\u001b[0m\u001b[1;33m\u001b[0m\u001b[0m\n",
      "\u001b[1;32m~\\anaconda3\\lib\\site-packages\\pandas\\core\\indexing.py\u001b[0m in \u001b[0;36m_get_listlike_indexer\u001b[1;34m(self, key, axis, raise_missing)\u001b[0m\n\u001b[0;32m   1550\u001b[0m             \u001b[0mkeyarr\u001b[0m\u001b[1;33m,\u001b[0m \u001b[0mindexer\u001b[0m\u001b[1;33m,\u001b[0m \u001b[0mnew_indexer\u001b[0m \u001b[1;33m=\u001b[0m \u001b[0max\u001b[0m\u001b[1;33m.\u001b[0m\u001b[0m_reindex_non_unique\u001b[0m\u001b[1;33m(\u001b[0m\u001b[0mkeyarr\u001b[0m\u001b[1;33m)\u001b[0m\u001b[1;33m\u001b[0m\u001b[1;33m\u001b[0m\u001b[0m\n\u001b[0;32m   1551\u001b[0m \u001b[1;33m\u001b[0m\u001b[0m\n\u001b[1;32m-> 1552\u001b[1;33m         self._validate_read_indexer(\n\u001b[0m\u001b[0;32m   1553\u001b[0m             \u001b[0mkeyarr\u001b[0m\u001b[1;33m,\u001b[0m \u001b[0mindexer\u001b[0m\u001b[1;33m,\u001b[0m \u001b[0mo\u001b[0m\u001b[1;33m.\u001b[0m\u001b[0m_get_axis_number\u001b[0m\u001b[1;33m(\u001b[0m\u001b[0maxis\u001b[0m\u001b[1;33m)\u001b[0m\u001b[1;33m,\u001b[0m \u001b[0mraise_missing\u001b[0m\u001b[1;33m=\u001b[0m\u001b[0mraise_missing\u001b[0m\u001b[1;33m\u001b[0m\u001b[1;33m\u001b[0m\u001b[0m\n\u001b[0;32m   1554\u001b[0m         )\n",
      "\u001b[1;32m~\\anaconda3\\lib\\site-packages\\pandas\\core\\indexing.py\u001b[0m in \u001b[0;36m_validate_read_indexer\u001b[1;34m(self, key, indexer, axis, raise_missing)\u001b[0m\n\u001b[0;32m   1644\u001b[0m             \u001b[1;32mif\u001b[0m \u001b[1;32mnot\u001b[0m \u001b[1;33m(\u001b[0m\u001b[0mself\u001b[0m\u001b[1;33m.\u001b[0m\u001b[0mname\u001b[0m \u001b[1;33m==\u001b[0m \u001b[1;34m\"loc\"\u001b[0m \u001b[1;32mand\u001b[0m \u001b[1;32mnot\u001b[0m \u001b[0mraise_missing\u001b[0m\u001b[1;33m)\u001b[0m\u001b[1;33m:\u001b[0m\u001b[1;33m\u001b[0m\u001b[1;33m\u001b[0m\u001b[0m\n\u001b[0;32m   1645\u001b[0m                 \u001b[0mnot_found\u001b[0m \u001b[1;33m=\u001b[0m \u001b[0mlist\u001b[0m\u001b[1;33m(\u001b[0m\u001b[0mset\u001b[0m\u001b[1;33m(\u001b[0m\u001b[0mkey\u001b[0m\u001b[1;33m)\u001b[0m \u001b[1;33m-\u001b[0m \u001b[0mset\u001b[0m\u001b[1;33m(\u001b[0m\u001b[0max\u001b[0m\u001b[1;33m)\u001b[0m\u001b[1;33m)\u001b[0m\u001b[1;33m\u001b[0m\u001b[1;33m\u001b[0m\u001b[0m\n\u001b[1;32m-> 1646\u001b[1;33m                 \u001b[1;32mraise\u001b[0m \u001b[0mKeyError\u001b[0m\u001b[1;33m(\u001b[0m\u001b[1;34mf\"{not_found} not in index\"\u001b[0m\u001b[1;33m)\u001b[0m\u001b[1;33m\u001b[0m\u001b[1;33m\u001b[0m\u001b[0m\n\u001b[0m\u001b[0;32m   1647\u001b[0m \u001b[1;33m\u001b[0m\u001b[0m\n\u001b[0;32m   1648\u001b[0m             \u001b[1;31m# we skip the warning on Categorical/Interval\u001b[0m\u001b[1;33m\u001b[0m\u001b[1;33m\u001b[0m\u001b[1;33m\u001b[0m\u001b[0m\n",
      "\u001b[1;31mKeyError\u001b[0m: \"['delta_h_climb', 'duration_climb'] not in index\""
     ]
    }
   ],
   "source": [
    "climb = ['duration_climb', 'avg_speed_climb',\n",
    "       'std_speed_climb', 'avg_vertrate_speed_climb',\n",
    "       'std_vertrate_speed_climb', 'delta_h_climb', 'max_spd_climb',\n",
    "       'min_spd_climb', 'max_vertrate_speed_climb', 'min_vertrate_speed_climb',\n",
    "       'airline_cat']\n",
    "sns.heatmap(df_noairline[climb].corr(),annot = True)"
   ]
  },
  {
   "cell_type": "code",
   "execution_count": 12,
   "metadata": {},
   "outputs": [],
   "source": [
    "corr_matrix = df_noairline.corr(method='spearman')"
   ]
  },
  {
   "cell_type": "code",
   "execution_count": 13,
   "metadata": {},
   "outputs": [
    {
     "data": {
      "text/plain": [
       "37.0"
      ]
     },
     "execution_count": 13,
     "metadata": {},
     "output_type": "execute_result"
    }
   ],
   "source": [
    "(corr_matrix[(corr_matrix>0.5) | (corr_matrix<-0.5)].count().sum() - corr_matrix.columns.shape[0])/2"
   ]
  },
  {
   "cell_type": "markdown",
   "metadata": {},
   "source": [
    "There exists several couples (37) of variables that are highly correlated, with a coefficient of correlation superior to 0.5. A feature selection process needs to be conducted."
   ]
  },
  {
   "cell_type": "code",
   "execution_count": 287,
   "metadata": {},
   "outputs": [],
   "source": [
    "# Standard Scaling (not necessary for random forest)\n",
    "X = df_filt_10log.iloc[:,:-1]\n",
    "y = df_filt_10log.loc[:,[\"airline_cat\"]]\n",
    "scaler = preprocessing.StandardScaler().fit(X)\n",
    "X_scaled = scaler.transform(X)"
   ]
  },
  {
   "cell_type": "code",
   "execution_count": 327,
   "metadata": {},
   "outputs": [],
   "source": [
    "# Spliting the data into train and test datasets\n",
    "\n",
    "X_train, X_test, y_train, y_test = train_test_split(X, y, test_size=0.3, random_state=0)"
   ]
  },
  {
   "cell_type": "code",
   "execution_count": 332,
   "metadata": {},
   "outputs": [
    {
     "ename": "ValueError",
     "evalue": "Input contains NaN, infinity or a value too large for dtype('float32').",
     "output_type": "error",
     "traceback": [
      "\u001b[1;31m---------------------------------------------------------------------------\u001b[0m",
      "\u001b[1;31mValueError\u001b[0m                                Traceback (most recent call last)",
      "\u001b[1;32m<ipython-input-332-5fb4d348cf1a>\u001b[0m in \u001b[0;36m<module>\u001b[1;34m\u001b[0m\n\u001b[0;32m      1\u001b[0m \u001b[1;31m# Training a random forest classifier\u001b[0m\u001b[1;33m\u001b[0m\u001b[1;33m\u001b[0m\u001b[1;33m\u001b[0m\u001b[0m\n\u001b[0;32m      2\u001b[0m \u001b[0mclf\u001b[0m \u001b[1;33m=\u001b[0m \u001b[0mDecisionTreeClassifier\u001b[0m\u001b[1;33m(\u001b[0m\u001b[0mcriterion\u001b[0m\u001b[1;33m=\u001b[0m\u001b[1;34m'entropy'\u001b[0m\u001b[1;33m)\u001b[0m\u001b[1;31m#n_estimators=10000, random_state=0, n_jobs=-1)\u001b[0m\u001b[1;33m\u001b[0m\u001b[1;33m\u001b[0m\u001b[0m\n\u001b[1;32m----> 3\u001b[1;33m \u001b[0mclf\u001b[0m\u001b[1;33m.\u001b[0m\u001b[0mfit\u001b[0m\u001b[1;33m(\u001b[0m\u001b[0mX_train\u001b[0m\u001b[1;33m,\u001b[0m \u001b[0my_train\u001b[0m\u001b[1;33m)\u001b[0m\u001b[1;33m\u001b[0m\u001b[1;33m\u001b[0m\u001b[0m\n\u001b[0m",
      "\u001b[1;32m~\\anaconda3\\lib\\site-packages\\sklearn\\tree\\_classes.py\u001b[0m in \u001b[0;36mfit\u001b[1;34m(self, X, y, sample_weight, check_input, X_idx_sorted)\u001b[0m\n\u001b[0;32m    888\u001b[0m         \"\"\"\n\u001b[0;32m    889\u001b[0m \u001b[1;33m\u001b[0m\u001b[0m\n\u001b[1;32m--> 890\u001b[1;33m         super().fit(\n\u001b[0m\u001b[0;32m    891\u001b[0m             \u001b[0mX\u001b[0m\u001b[1;33m,\u001b[0m \u001b[0my\u001b[0m\u001b[1;33m,\u001b[0m\u001b[1;33m\u001b[0m\u001b[1;33m\u001b[0m\u001b[0m\n\u001b[0;32m    892\u001b[0m             \u001b[0msample_weight\u001b[0m\u001b[1;33m=\u001b[0m\u001b[0msample_weight\u001b[0m\u001b[1;33m,\u001b[0m\u001b[1;33m\u001b[0m\u001b[1;33m\u001b[0m\u001b[0m\n",
      "\u001b[1;32m~\\anaconda3\\lib\\site-packages\\sklearn\\tree\\_classes.py\u001b[0m in \u001b[0;36mfit\u001b[1;34m(self, X, y, sample_weight, check_input, X_idx_sorted)\u001b[0m\n\u001b[0;32m    154\u001b[0m             \u001b[0mcheck_X_params\u001b[0m \u001b[1;33m=\u001b[0m \u001b[0mdict\u001b[0m\u001b[1;33m(\u001b[0m\u001b[0mdtype\u001b[0m\u001b[1;33m=\u001b[0m\u001b[0mDTYPE\u001b[0m\u001b[1;33m,\u001b[0m \u001b[0maccept_sparse\u001b[0m\u001b[1;33m=\u001b[0m\u001b[1;34m\"csc\"\u001b[0m\u001b[1;33m)\u001b[0m\u001b[1;33m\u001b[0m\u001b[1;33m\u001b[0m\u001b[0m\n\u001b[0;32m    155\u001b[0m             \u001b[0mcheck_y_params\u001b[0m \u001b[1;33m=\u001b[0m \u001b[0mdict\u001b[0m\u001b[1;33m(\u001b[0m\u001b[0mensure_2d\u001b[0m\u001b[1;33m=\u001b[0m\u001b[1;32mFalse\u001b[0m\u001b[1;33m,\u001b[0m \u001b[0mdtype\u001b[0m\u001b[1;33m=\u001b[0m\u001b[1;32mNone\u001b[0m\u001b[1;33m)\u001b[0m\u001b[1;33m\u001b[0m\u001b[1;33m\u001b[0m\u001b[0m\n\u001b[1;32m--> 156\u001b[1;33m             X, y = self._validate_data(X, y,\n\u001b[0m\u001b[0;32m    157\u001b[0m                                        validate_separately=(check_X_params,\n\u001b[0;32m    158\u001b[0m                                                             check_y_params))\n",
      "\u001b[1;32m~\\anaconda3\\lib\\site-packages\\sklearn\\base.py\u001b[0m in \u001b[0;36m_validate_data\u001b[1;34m(self, X, y, reset, validate_separately, **check_params)\u001b[0m\n\u001b[0;32m    427\u001b[0m                 \u001b[1;31m# :(\u001b[0m\u001b[1;33m\u001b[0m\u001b[1;33m\u001b[0m\u001b[1;33m\u001b[0m\u001b[0m\n\u001b[0;32m    428\u001b[0m                 \u001b[0mcheck_X_params\u001b[0m\u001b[1;33m,\u001b[0m \u001b[0mcheck_y_params\u001b[0m \u001b[1;33m=\u001b[0m \u001b[0mvalidate_separately\u001b[0m\u001b[1;33m\u001b[0m\u001b[1;33m\u001b[0m\u001b[0m\n\u001b[1;32m--> 429\u001b[1;33m                 \u001b[0mX\u001b[0m \u001b[1;33m=\u001b[0m \u001b[0mcheck_array\u001b[0m\u001b[1;33m(\u001b[0m\u001b[0mX\u001b[0m\u001b[1;33m,\u001b[0m \u001b[1;33m**\u001b[0m\u001b[0mcheck_X_params\u001b[0m\u001b[1;33m)\u001b[0m\u001b[1;33m\u001b[0m\u001b[1;33m\u001b[0m\u001b[0m\n\u001b[0m\u001b[0;32m    430\u001b[0m                 \u001b[0my\u001b[0m \u001b[1;33m=\u001b[0m \u001b[0mcheck_array\u001b[0m\u001b[1;33m(\u001b[0m\u001b[0my\u001b[0m\u001b[1;33m,\u001b[0m \u001b[1;33m**\u001b[0m\u001b[0mcheck_y_params\u001b[0m\u001b[1;33m)\u001b[0m\u001b[1;33m\u001b[0m\u001b[1;33m\u001b[0m\u001b[0m\n\u001b[0;32m    431\u001b[0m             \u001b[1;32melse\u001b[0m\u001b[1;33m:\u001b[0m\u001b[1;33m\u001b[0m\u001b[1;33m\u001b[0m\u001b[0m\n",
      "\u001b[1;32m~\\anaconda3\\lib\\site-packages\\sklearn\\utils\\validation.py\u001b[0m in \u001b[0;36minner_f\u001b[1;34m(*args, **kwargs)\u001b[0m\n\u001b[0;32m     71\u001b[0m                           FutureWarning)\n\u001b[0;32m     72\u001b[0m         \u001b[0mkwargs\u001b[0m\u001b[1;33m.\u001b[0m\u001b[0mupdate\u001b[0m\u001b[1;33m(\u001b[0m\u001b[1;33m{\u001b[0m\u001b[0mk\u001b[0m\u001b[1;33m:\u001b[0m \u001b[0marg\u001b[0m \u001b[1;32mfor\u001b[0m \u001b[0mk\u001b[0m\u001b[1;33m,\u001b[0m \u001b[0marg\u001b[0m \u001b[1;32min\u001b[0m \u001b[0mzip\u001b[0m\u001b[1;33m(\u001b[0m\u001b[0msig\u001b[0m\u001b[1;33m.\u001b[0m\u001b[0mparameters\u001b[0m\u001b[1;33m,\u001b[0m \u001b[0margs\u001b[0m\u001b[1;33m)\u001b[0m\u001b[1;33m}\u001b[0m\u001b[1;33m)\u001b[0m\u001b[1;33m\u001b[0m\u001b[1;33m\u001b[0m\u001b[0m\n\u001b[1;32m---> 73\u001b[1;33m         \u001b[1;32mreturn\u001b[0m \u001b[0mf\u001b[0m\u001b[1;33m(\u001b[0m\u001b[1;33m**\u001b[0m\u001b[0mkwargs\u001b[0m\u001b[1;33m)\u001b[0m\u001b[1;33m\u001b[0m\u001b[1;33m\u001b[0m\u001b[0m\n\u001b[0m\u001b[0;32m     74\u001b[0m     \u001b[1;32mreturn\u001b[0m \u001b[0minner_f\u001b[0m\u001b[1;33m\u001b[0m\u001b[1;33m\u001b[0m\u001b[0m\n\u001b[0;32m     75\u001b[0m \u001b[1;33m\u001b[0m\u001b[0m\n",
      "\u001b[1;32m~\\anaconda3\\lib\\site-packages\\sklearn\\utils\\validation.py\u001b[0m in \u001b[0;36mcheck_array\u001b[1;34m(array, accept_sparse, accept_large_sparse, dtype, order, copy, force_all_finite, ensure_2d, allow_nd, ensure_min_samples, ensure_min_features, estimator)\u001b[0m\n\u001b[0;32m    643\u001b[0m \u001b[1;33m\u001b[0m\u001b[0m\n\u001b[0;32m    644\u001b[0m         \u001b[1;32mif\u001b[0m \u001b[0mforce_all_finite\u001b[0m\u001b[1;33m:\u001b[0m\u001b[1;33m\u001b[0m\u001b[1;33m\u001b[0m\u001b[0m\n\u001b[1;32m--> 645\u001b[1;33m             _assert_all_finite(array,\n\u001b[0m\u001b[0;32m    646\u001b[0m                                allow_nan=force_all_finite == 'allow-nan')\n\u001b[0;32m    647\u001b[0m \u001b[1;33m\u001b[0m\u001b[0m\n",
      "\u001b[1;32m~\\anaconda3\\lib\\site-packages\\sklearn\\utils\\validation.py\u001b[0m in \u001b[0;36m_assert_all_finite\u001b[1;34m(X, allow_nan, msg_dtype)\u001b[0m\n\u001b[0;32m     95\u001b[0m                 not allow_nan and not np.isfinite(X).all()):\n\u001b[0;32m     96\u001b[0m             \u001b[0mtype_err\u001b[0m \u001b[1;33m=\u001b[0m \u001b[1;34m'infinity'\u001b[0m \u001b[1;32mif\u001b[0m \u001b[0mallow_nan\u001b[0m \u001b[1;32melse\u001b[0m \u001b[1;34m'NaN, infinity'\u001b[0m\u001b[1;33m\u001b[0m\u001b[1;33m\u001b[0m\u001b[0m\n\u001b[1;32m---> 97\u001b[1;33m             raise ValueError(\n\u001b[0m\u001b[0;32m     98\u001b[0m                     \u001b[0mmsg_err\u001b[0m\u001b[1;33m.\u001b[0m\u001b[0mformat\u001b[0m\u001b[1;33m\u001b[0m\u001b[1;33m\u001b[0m\u001b[0m\n\u001b[0;32m     99\u001b[0m                     (type_err,\n",
      "\u001b[1;31mValueError\u001b[0m: Input contains NaN, infinity or a value too large for dtype('float32')."
     ]
    }
   ],
   "source": [
    "# Training a random forest classifier \n",
    "clf = DecisionTreeClassifier(criterion='entropy')#n_estimators=10000, random_state=0, n_jobs=-1)\n",
    "clf.fit(X_train, y_train)"
   ]
  },
  {
   "cell_type": "code",
   "execution_count": 330,
   "metadata": {},
   "outputs": [],
   "source": [
    "from sklearn.tree import DecisionTreeClassifier"
   ]
  },
  {
   "cell_type": "code",
   "execution_count": 21,
   "metadata": {},
   "outputs": [
    {
     "name": "stdout",
     "output_type": "stream",
     "text": [
      "('flight_duration', 0.0414246887612151)\n",
      "('duration_descent', 0.03445559171330998)\n",
      "('avg_speed_descent', 0.02949673787239679)\n",
      "('std_speed_descent', 0.031172277598213678)\n",
      "('avg_vertrate_speed_descent', 0.035222605308581116)\n",
      "('std_vertrate_speed_descent', 0.03337192166642727)\n",
      "('delta_h_descent', 0.03436829777570008)\n",
      "('max_spd_descent', 0.0280538891011951)\n",
      "('min_spd_descent', 0.03495551642310457)\n",
      "('max_vertrate_speed_descent', 0.01799158460835214)\n",
      "('min_vertrate_speed_descent', 0.029416579394468186)\n",
      "('duration_cruise', 0.03582164573661657)\n",
      "('avg_speed_cruise', 0.03225865193065493)\n",
      "('std_speed_cruise', 0.030463346818096218)\n",
      "('avg_vertrate_speed_cruise', 0.02945574650257564)\n",
      "('std_vertrate_speed_cruise', 0.02840173565766762)\n",
      "('delta_h_cruise', 0.024430047617873752)\n",
      "('max_spd_cruise', 0.03036154485568474)\n",
      "('min_spd_cruise', 0.029889018356510404)\n",
      "('max_vertrate_speed_cruise', 0.016919292434589558)\n",
      "('min_vertrate_speed_cruise', 0.016476424758751485)\n",
      "('mean_altitude_cruise', 0.03334186448397551)\n",
      "('std_altitude_cruise', 0.028958452911542927)\n",
      "('duration_climb', 0.025234068177716226)\n",
      "('avg_speed_climb', 0.03576092374685566)\n",
      "('std_speed_climb', 0.0382509893990638)\n",
      "('avg_vertrate_speed_climb', 0.036831201096359185)\n",
      "('std_vertrate_speed_climb', 0.03205101150973064)\n",
      "('delta_h_climb', 0.02952476893891446)\n",
      "('max_spd_climb', 0.03136677495332822)\n",
      "('min_spd_climb', 0.04012689898540013)\n",
      "('max_vertrate_speed_climb', 0.025320643819407844)\n",
      "('min_vertrate_speed_climb', 0.018825257085720595)\n"
     ]
    }
   ],
   "source": [
    "# Print the name and gini importance of each feature\n",
    "columns = df_filt_10log.columns\n",
    "for feature in zip(columns, clf.feature_importances_):\n",
    "    print(feature)"
   ]
  },
  {
   "cell_type": "code",
   "execution_count": 24,
   "metadata": {},
   "outputs": [
    {
     "ename": "NameError",
     "evalue": "name 'clf' is not defined",
     "output_type": "error",
     "traceback": [
      "\u001b[1;31m---------------------------------------------------------------------------\u001b[0m",
      "\u001b[1;31mNameError\u001b[0m                                 Traceback (most recent call last)",
      "\u001b[1;32m<ipython-input-24-116a1a04d0cf>\u001b[0m in \u001b[0;36m<module>\u001b[1;34m\u001b[0m\n\u001b[0;32m      2\u001b[0m \u001b[1;31m# features that have an importance of more than 0.15\u001b[0m\u001b[1;33m\u001b[0m\u001b[1;33m\u001b[0m\u001b[1;33m\u001b[0m\u001b[0m\n\u001b[0;32m      3\u001b[0m \u001b[1;33m\u001b[0m\u001b[0m\n\u001b[1;32m----> 4\u001b[1;33m \u001b[0msfm\u001b[0m \u001b[1;33m=\u001b[0m \u001b[0mSelectFromModel\u001b[0m\u001b[1;33m(\u001b[0m\u001b[0mclf\u001b[0m\u001b[1;33m,\u001b[0m \u001b[0mthreshold\u001b[0m\u001b[1;33m=\u001b[0m\u001b[1;36m0.025\u001b[0m\u001b[1;33m)\u001b[0m\u001b[1;33m\u001b[0m\u001b[1;33m\u001b[0m\u001b[0m\n\u001b[0m\u001b[0;32m      5\u001b[0m \u001b[1;33m\u001b[0m\u001b[0m\n\u001b[0;32m      6\u001b[0m \u001b[1;31m# Train the selector\u001b[0m\u001b[1;33m\u001b[0m\u001b[1;33m\u001b[0m\u001b[1;33m\u001b[0m\u001b[0m\n",
      "\u001b[1;31mNameError\u001b[0m: name 'clf' is not defined"
     ]
    }
   ],
   "source": [
    "# Create a selector object that will use the random forest classifier to identify\n",
    "# features that have an importance of more than 0.15\n",
    "\n",
    "sfm = SelectFromModel(clf, threshold=0.025)\n",
    "\n",
    "# Train the selector\n",
    "sfm.fit(X_train, y_train)"
   ]
  },
  {
   "cell_type": "code",
   "execution_count": 23,
   "metadata": {},
   "outputs": [
    {
     "name": "stdout",
     "output_type": "stream",
     "text": [
      "flight_duration\n",
      "duration_descent\n",
      "avg_speed_descent\n",
      "std_speed_descent\n",
      "avg_vertrate_speed_descent\n",
      "std_vertrate_speed_descent\n",
      "delta_h_descent\n",
      "max_spd_descent\n",
      "min_spd_descent\n",
      "min_vertrate_speed_descent\n",
      "duration_cruise\n",
      "avg_speed_cruise\n",
      "std_speed_cruise\n",
      "avg_vertrate_speed_cruise\n",
      "std_vertrate_speed_cruise\n",
      "max_spd_cruise\n",
      "min_spd_cruise\n",
      "mean_altitude_cruise\n",
      "std_altitude_cruise\n",
      "duration_climb\n",
      "avg_speed_climb\n",
      "std_speed_climb\n",
      "avg_vertrate_speed_climb\n",
      "std_vertrate_speed_climb\n",
      "delta_h_climb\n",
      "max_spd_climb\n",
      "min_spd_climb\n",
      "max_vertrate_speed_climb\n",
      "The number of columns chosen is 28\n"
     ]
    }
   ],
   "source": [
    "# Print the names of the most important features\n",
    "i = 0\n",
    "for feature_list_index in sfm.get_support(indices=True):\n",
    "    print(columns[feature_list_index])\n",
    "    i += 1\n",
    "print(f'The number of columns chosen is {i}')"
   ]
  },
  {
   "cell_type": "code",
   "execution_count": 24,
   "metadata": {},
   "outputs": [],
   "source": [
    "# Transform the data to create a new dataset containing only the most important features\n",
    "# Note: We have to apply the transform to both the training X and test X data.\n",
    "X_important_train = sfm.transform(X_train)\n",
    "X_important_test = sfm.transform(X_test)"
   ]
  },
  {
   "cell_type": "code",
   "execution_count": 25,
   "metadata": {},
   "outputs": [
    {
     "name": "stderr",
     "output_type": "stream",
     "text": [
      "<ipython-input-25-2862a864be5a>:5: DataConversionWarning: A column-vector y was passed when a 1d array was expected. Please change the shape of y to (n_samples,), for example using ravel().\n",
      "  clf_important.fit(X_important_train, y_train)\n"
     ]
    },
    {
     "data": {
      "text/plain": [
       "RandomForestClassifier(n_estimators=10000, n_jobs=-1, random_state=0)"
      ]
     },
     "execution_count": 25,
     "metadata": {},
     "output_type": "execute_result"
    }
   ],
   "source": [
    "# Create a new random forest classifier for the most important features\n",
    "clf_important = RandomForestClassifier(n_estimators=10000, random_state=0, n_jobs=-1)\n",
    "\n",
    "# Train the new classifier on the new dataset containing the most important features\n",
    "clf_important.fit(X_important_train, y_train)"
   ]
  },
  {
   "cell_type": "code",
   "execution_count": 26,
   "metadata": {},
   "outputs": [
    {
     "data": {
      "text/plain": [
       "0.33890214797136037"
      ]
     },
     "execution_count": 26,
     "metadata": {},
     "output_type": "execute_result"
    }
   ],
   "source": [
    "# Apply The Full Featured Classifier To The Test Data\n",
    "y_pred = clf.predict(X_test)\n",
    "\n",
    "# View The Accuracy Of Our Full Feature Model\n",
    "accuracy_score(y_test, y_pred)"
   ]
  },
  {
   "cell_type": "code",
   "execution_count": 27,
   "metadata": {},
   "outputs": [
    {
     "data": {
      "text/plain": [
       "0.3412887828162291"
      ]
     },
     "execution_count": 27,
     "metadata": {},
     "output_type": "execute_result"
    }
   ],
   "source": [
    "# Apply The Full Featured Classifier To The Test Data\n",
    "y_important_pred = clf_important.predict(X_important_test)\n",
    "\n",
    "# View The Accuracy Of Our Limited Feature Model\n",
    "accuracy_score(y_test, y_important_pred)"
   ]
  },
  {
   "cell_type": "code",
   "execution_count": 19,
   "metadata": {
    "collapsed": true
   },
   "outputs": [
    {
     "ename": "NameError",
     "evalue": "name 'sfm' is not defined",
     "output_type": "error",
     "traceback": [
      "\u001b[1;31m---------------------------------------------------------------------------\u001b[0m",
      "\u001b[1;31mNameError\u001b[0m                                 Traceback (most recent call last)",
      "\u001b[1;32m<ipython-input-19-46f55293e48a>\u001b[0m in \u001b[0;36m<module>\u001b[1;34m\u001b[0m\n\u001b[0;32m      1\u001b[0m \u001b[1;31m# Transform all data\u001b[0m\u001b[1;33m\u001b[0m\u001b[1;33m\u001b[0m\u001b[1;33m\u001b[0m\u001b[0m\n\u001b[1;32m----> 2\u001b[1;33m \u001b[0mselection\u001b[0m \u001b[1;33m=\u001b[0m \u001b[0msfm\u001b[0m\u001b[1;33m.\u001b[0m\u001b[0mget_support\u001b[0m\u001b[1;33m(\u001b[0m\u001b[1;33m)\u001b[0m\u001b[1;33m\u001b[0m\u001b[1;33m\u001b[0m\u001b[0m\n\u001b[0m\u001b[0;32m      3\u001b[0m \u001b[0mX_columns\u001b[0m \u001b[1;33m=\u001b[0m \u001b[0mcolumns\u001b[0m\u001b[1;33m[\u001b[0m\u001b[1;33m:\u001b[0m\u001b[1;33m-\u001b[0m\u001b[1;36m1\u001b[0m\u001b[1;33m]\u001b[0m\u001b[1;33m\u001b[0m\u001b[1;33m\u001b[0m\u001b[0m\n\u001b[0;32m      4\u001b[0m \u001b[0mcolumns_remained\u001b[0m \u001b[1;33m=\u001b[0m \u001b[0mX_columns\u001b[0m\u001b[1;33m[\u001b[0m\u001b[0mselection\u001b[0m\u001b[1;33m]\u001b[0m\u001b[1;33m\u001b[0m\u001b[1;33m\u001b[0m\u001b[0m\n\u001b[0;32m      5\u001b[0m \u001b[0mX_new\u001b[0m \u001b[1;33m=\u001b[0m \u001b[0msfm\u001b[0m\u001b[1;33m.\u001b[0m\u001b[0mtransform\u001b[0m\u001b[1;33m(\u001b[0m\u001b[0mX\u001b[0m\u001b[1;33m)\u001b[0m\u001b[1;33m\u001b[0m\u001b[1;33m\u001b[0m\u001b[0m\n",
      "\u001b[1;31mNameError\u001b[0m: name 'sfm' is not defined"
     ]
    }
   ],
   "source": [
    "# Transform all data\n",
    "selection = sfm.get_support()\n",
    "X_columns = columns[:-1]\n",
    "columns_remained = X_columns[selection]\n",
    "X_new = sfm.transform(X)"
   ]
  },
  {
   "cell_type": "code",
   "execution_count": 289,
   "metadata": {},
   "outputs": [],
   "source": [
    "columns_remained = ['duration_descent', 'avg_speed_descent',\n",
    "       'std_speed_descent', 'avg_vertrate_speed_descent',\n",
    "       'std_vertrate_speed_descent', 'delta_h_descent', 'max_spd_descent',\n",
    "       'min_spd_descent', 'min_vertrate_speed_descent', 'duration_cruise',\n",
    "       'avg_speed_cruise', 'std_speed_cruise', 'avg_vertrate_speed_cruise',\n",
    "       'std_vertrate_speed_cruise', 'max_spd_cruise', 'min_spd_cruise',\n",
    "       'mean_altitude_cruise', 'std_altitude_cruise', 'duration_climb',\n",
    "       'avg_speed_climb', 'std_speed_climb', 'avg_vertrate_speed_climb',\n",
    "       'std_vertrate_speed_climb', 'delta_h_climb', 'max_spd_climb',\n",
    "       'min_spd_climb', 'max_vertrate_speed_climb']"
   ]
  },
  {
   "cell_type": "markdown",
   "metadata": {},
   "source": [
    "# Aggregating data"
   ]
  },
  {
   "cell_type": "code",
   "execution_count": 300,
   "metadata": {},
   "outputs": [],
   "source": [
    "df_new = pd.DataFrame(data = X)#[columns_remained], columns = columns_remained)\n",
    "y.reset_index(inplace = True)"
   ]
  },
  {
   "cell_type": "code",
   "execution_count": 301,
   "metadata": {},
   "outputs": [],
   "source": [
    "df_new = df_filt_10log.iloc[:,:-1]\n",
    "y = df_filt_10log.loc[:,[\"airline_cat\"]].reset_index()"
   ]
  },
  {
   "cell_type": "code",
   "execution_count": 302,
   "metadata": {},
   "outputs": [],
   "source": [
    "df_new_scaled = pd.DataFrame(data = preprocessing.StandardScaler().fit_transform(df_new), columns = X.columns)"
   ]
  },
  {
   "cell_type": "code",
   "execution_count": 303,
   "metadata": {},
   "outputs": [],
   "source": [
    "df_new_cat = pd.merge(df_new, y, how = 'left', left_index = True, right_on = 'flight_id')"
   ]
  },
  {
   "cell_type": "code",
   "execution_count": 304,
   "metadata": {},
   "outputs": [],
   "source": [
    "df_new_scaled_cat = pd.merge(df_new_scaled, y, how = 'left', left_index = True, right_on = 'flight_id')"
   ]
  },
  {
   "cell_type": "code",
   "execution_count": 305,
   "metadata": {},
   "outputs": [],
   "source": [
    "df_median_scaled = df_new_scaled_cat.groupby(by = 'airline_cat').median()\n",
    "df_median = df_new_cat.groupby(by = 'airline_cat').median()"
   ]
  },
  {
   "cell_type": "code",
   "execution_count": 306,
   "metadata": {},
   "outputs": [],
   "source": [
    "df_median_scaled.drop(\"flight_id\", axis = 1, inplace=True)\n",
    "df_median.drop(\"flight_id\", axis = 1, inplace=True)"
   ]
  },
  {
   "cell_type": "code",
   "execution_count": 360,
   "metadata": {},
   "outputs": [
    {
     "data": {
      "image/png": "[encoded data removed]",
      "text/plain": [
       "<Figure size 432x288 with 1 Axes>"
      ]
     },
     "metadata": {
      "needs_background": "light"
     },
     "output_type": "display_data"
    }
   ],
   "source": [
    "Z = linkage(df_median_scaled.drop(['duration_descent','duration_cruise','duration_climb'],axis=1),method='ward',metric='euclidean')\n",
    "threshold = 2.5\n",
    "plt.title('CAH')\n",
    "dendrogram(Z,labels=df_median.index,orientation='right',color_threshold=threshold)\n",
    "plt.show()"
   ]
  },
  {
   "cell_type": "code",
   "execution_count": 361,
   "metadata": {},
   "outputs": [
    {
     "name": "stdout",
     "output_type": "stream",
     "text": [
      "[2 1 2 1 2 1 2 1 1 2 2 2 2 2 2 2 1 2 2 2 2 2 1 1 2 1 2 2 1 2 2 2 2 2 2 2 2\n",
      " 2 2 2 1 2 2 1 1 1 1 1 2 2 2 2 2 2 1 2 2 2 1 2 2 2 2 1 2 1 2]\n"
     ]
    }
   ],
   "source": [
    "import numpy as np\n",
    "import pandas\n",
    "groupes_cah = fcluster(Z,t=threshold,criterion='distance')\n",
    "print(groupes_cah)"
   ]
  },
  {
   "cell_type": "code",
   "execution_count": 310,
   "metadata": {},
   "outputs": [],
   "source": [
    "df_median['group'] = groupes_cah\n",
    "df_median_scaled['group'] = groupes_cah"
   ]
  },
  {
   "cell_type": "code",
   "execution_count": 206,
   "metadata": {},
   "outputs": [],
   "source": [
    "avgcol = ['flight_duration','duration_descent','mean_altitude_cruise','avg_speed_climb','avg_speed_cruise','avg_speed_descent']"
   ]
  },
  {
   "cell_type": "code",
   "execution_count": 207,
   "metadata": {
    "collapsed": true
   },
   "outputs": [
    {
     "ename": "KeyError",
     "evalue": "'flight_duration'",
     "output_type": "error",
     "traceback": [
      "\u001b[1;31m---------------------------------------------------------------------------\u001b[0m",
      "\u001b[1;31mKeyError\u001b[0m                                  Traceback (most recent call last)",
      "\u001b[1;32m~\\anaconda3\\lib\\site-packages\\pandas\\core\\indexes\\base.py\u001b[0m in \u001b[0;36mget_loc\u001b[1;34m(self, key, method, tolerance)\u001b[0m\n\u001b[0;32m   2645\u001b[0m             \u001b[1;32mtry\u001b[0m\u001b[1;33m:\u001b[0m\u001b[1;33m\u001b[0m\u001b[1;33m\u001b[0m\u001b[0m\n\u001b[1;32m-> 2646\u001b[1;33m                 \u001b[1;32mreturn\u001b[0m \u001b[0mself\u001b[0m\u001b[1;33m.\u001b[0m\u001b[0m_engine\u001b[0m\u001b[1;33m.\u001b[0m\u001b[0mget_loc\u001b[0m\u001b[1;33m(\u001b[0m\u001b[0mkey\u001b[0m\u001b[1;33m)\u001b[0m\u001b[1;33m\u001b[0m\u001b[1;33m\u001b[0m\u001b[0m\n\u001b[0m\u001b[0;32m   2647\u001b[0m             \u001b[1;32mexcept\u001b[0m \u001b[0mKeyError\u001b[0m\u001b[1;33m:\u001b[0m\u001b[1;33m\u001b[0m\u001b[1;33m\u001b[0m\u001b[0m\n",
      "\u001b[1;32mpandas\\_libs\\index.pyx\u001b[0m in \u001b[0;36mpandas._libs.index.IndexEngine.get_loc\u001b[1;34m()\u001b[0m\n",
      "\u001b[1;32mpandas\\_libs\\index.pyx\u001b[0m in \u001b[0;36mpandas._libs.index.IndexEngine.get_loc\u001b[1;34m()\u001b[0m\n",
      "\u001b[1;32mpandas\\_libs\\hashtable_class_helper.pxi\u001b[0m in \u001b[0;36mpandas._libs.hashtable.PyObjectHashTable.get_item\u001b[1;34m()\u001b[0m\n",
      "\u001b[1;32mpandas\\_libs\\hashtable_class_helper.pxi\u001b[0m in \u001b[0;36mpandas._libs.hashtable.PyObjectHashTable.get_item\u001b[1;34m()\u001b[0m\n",
      "\u001b[1;31mKeyError\u001b[0m: 'flight_duration'",
      "\nDuring handling of the above exception, another exception occurred:\n",
      "\u001b[1;31mKeyError\u001b[0m                                  Traceback (most recent call last)",
      "\u001b[1;32m<ipython-input-207-fcec0a6de151>\u001b[0m in \u001b[0;36m<module>\u001b[1;34m\u001b[0m\n\u001b[0;32m      1\u001b[0m \u001b[1;32mfor\u001b[0m \u001b[0mc\u001b[0m \u001b[1;32min\u001b[0m \u001b[0mcolumns_remained\u001b[0m\u001b[1;33m:\u001b[0m\u001b[1;33m\u001b[0m\u001b[1;33m\u001b[0m\u001b[0m\n\u001b[0;32m      2\u001b[0m     \u001b[1;32mif\u001b[0m \u001b[1;34m'duration'\u001b[0m \u001b[1;32min\u001b[0m \u001b[0mc\u001b[0m\u001b[1;33m:\u001b[0m\u001b[1;33m\u001b[0m\u001b[1;33m\u001b[0m\u001b[0m\n\u001b[1;32m----> 3\u001b[1;33m         \u001b[0mprint\u001b[0m\u001b[1;33m(\u001b[0m\u001b[0mdf_median\u001b[0m\u001b[1;33m.\u001b[0m\u001b[0mgroupby\u001b[0m\u001b[1;33m(\u001b[0m\u001b[1;34m'group'\u001b[0m\u001b[1;33m)\u001b[0m\u001b[1;33m.\u001b[0m\u001b[0mmean\u001b[0m\u001b[1;33m(\u001b[0m\u001b[1;33m)\u001b[0m\u001b[1;33m[\u001b[0m\u001b[0mc\u001b[0m\u001b[1;33m]\u001b[0m\u001b[1;33m)\u001b[0m\u001b[1;33m\u001b[0m\u001b[1;33m\u001b[0m\u001b[0m\n\u001b[0m",
      "\u001b[1;32m~\\anaconda3\\lib\\site-packages\\pandas\\core\\frame.py\u001b[0m in \u001b[0;36m__getitem__\u001b[1;34m(self, key)\u001b[0m\n\u001b[0;32m   2798\u001b[0m             \u001b[1;32mif\u001b[0m \u001b[0mself\u001b[0m\u001b[1;33m.\u001b[0m\u001b[0mcolumns\u001b[0m\u001b[1;33m.\u001b[0m\u001b[0mnlevels\u001b[0m \u001b[1;33m>\u001b[0m \u001b[1;36m1\u001b[0m\u001b[1;33m:\u001b[0m\u001b[1;33m\u001b[0m\u001b[1;33m\u001b[0m\u001b[0m\n\u001b[0;32m   2799\u001b[0m                 \u001b[1;32mreturn\u001b[0m \u001b[0mself\u001b[0m\u001b[1;33m.\u001b[0m\u001b[0m_getitem_multilevel\u001b[0m\u001b[1;33m(\u001b[0m\u001b[0mkey\u001b[0m\u001b[1;33m)\u001b[0m\u001b[1;33m\u001b[0m\u001b[1;33m\u001b[0m\u001b[0m\n\u001b[1;32m-> 2800\u001b[1;33m             \u001b[0mindexer\u001b[0m \u001b[1;33m=\u001b[0m \u001b[0mself\u001b[0m\u001b[1;33m.\u001b[0m\u001b[0mcolumns\u001b[0m\u001b[1;33m.\u001b[0m\u001b[0mget_loc\u001b[0m\u001b[1;33m(\u001b[0m\u001b[0mkey\u001b[0m\u001b[1;33m)\u001b[0m\u001b[1;33m\u001b[0m\u001b[1;33m\u001b[0m\u001b[0m\n\u001b[0m\u001b[0;32m   2801\u001b[0m             \u001b[1;32mif\u001b[0m \u001b[0mis_integer\u001b[0m\u001b[1;33m(\u001b[0m\u001b[0mindexer\u001b[0m\u001b[1;33m)\u001b[0m\u001b[1;33m:\u001b[0m\u001b[1;33m\u001b[0m\u001b[1;33m\u001b[0m\u001b[0m\n\u001b[0;32m   2802\u001b[0m                 \u001b[0mindexer\u001b[0m \u001b[1;33m=\u001b[0m \u001b[1;33m[\u001b[0m\u001b[0mindexer\u001b[0m\u001b[1;33m]\u001b[0m\u001b[1;33m\u001b[0m\u001b[1;33m\u001b[0m\u001b[0m\n",
      "\u001b[1;32m~\\anaconda3\\lib\\site-packages\\pandas\\core\\indexes\\base.py\u001b[0m in \u001b[0;36mget_loc\u001b[1;34m(self, key, method, tolerance)\u001b[0m\n\u001b[0;32m   2646\u001b[0m                 \u001b[1;32mreturn\u001b[0m \u001b[0mself\u001b[0m\u001b[1;33m.\u001b[0m\u001b[0m_engine\u001b[0m\u001b[1;33m.\u001b[0m\u001b[0mget_loc\u001b[0m\u001b[1;33m(\u001b[0m\u001b[0mkey\u001b[0m\u001b[1;33m)\u001b[0m\u001b[1;33m\u001b[0m\u001b[1;33m\u001b[0m\u001b[0m\n\u001b[0;32m   2647\u001b[0m             \u001b[1;32mexcept\u001b[0m \u001b[0mKeyError\u001b[0m\u001b[1;33m:\u001b[0m\u001b[1;33m\u001b[0m\u001b[1;33m\u001b[0m\u001b[0m\n\u001b[1;32m-> 2648\u001b[1;33m                 \u001b[1;32mreturn\u001b[0m \u001b[0mself\u001b[0m\u001b[1;33m.\u001b[0m\u001b[0m_engine\u001b[0m\u001b[1;33m.\u001b[0m\u001b[0mget_loc\u001b[0m\u001b[1;33m(\u001b[0m\u001b[0mself\u001b[0m\u001b[1;33m.\u001b[0m\u001b[0m_maybe_cast_indexer\u001b[0m\u001b[1;33m(\u001b[0m\u001b[0mkey\u001b[0m\u001b[1;33m)\u001b[0m\u001b[1;33m)\u001b[0m\u001b[1;33m\u001b[0m\u001b[1;33m\u001b[0m\u001b[0m\n\u001b[0m\u001b[0;32m   2649\u001b[0m         \u001b[0mindexer\u001b[0m \u001b[1;33m=\u001b[0m \u001b[0mself\u001b[0m\u001b[1;33m.\u001b[0m\u001b[0mget_indexer\u001b[0m\u001b[1;33m(\u001b[0m\u001b[1;33m[\u001b[0m\u001b[0mkey\u001b[0m\u001b[1;33m]\u001b[0m\u001b[1;33m,\u001b[0m \u001b[0mmethod\u001b[0m\u001b[1;33m=\u001b[0m\u001b[0mmethod\u001b[0m\u001b[1;33m,\u001b[0m \u001b[0mtolerance\u001b[0m\u001b[1;33m=\u001b[0m\u001b[0mtolerance\u001b[0m\u001b[1;33m)\u001b[0m\u001b[1;33m\u001b[0m\u001b[1;33m\u001b[0m\u001b[0m\n\u001b[0;32m   2650\u001b[0m         \u001b[1;32mif\u001b[0m \u001b[0mindexer\u001b[0m\u001b[1;33m.\u001b[0m\u001b[0mndim\u001b[0m \u001b[1;33m>\u001b[0m \u001b[1;36m1\u001b[0m \u001b[1;32mor\u001b[0m \u001b[0mindexer\u001b[0m\u001b[1;33m.\u001b[0m\u001b[0msize\u001b[0m \u001b[1;33m>\u001b[0m \u001b[1;36m1\u001b[0m\u001b[1;33m:\u001b[0m\u001b[1;33m\u001b[0m\u001b[1;33m\u001b[0m\u001b[0m\n",
      "\u001b[1;32mpandas\\_libs\\index.pyx\u001b[0m in \u001b[0;36mpandas._libs.index.IndexEngine.get_loc\u001b[1;34m()\u001b[0m\n",
      "\u001b[1;32mpandas\\_libs\\index.pyx\u001b[0m in \u001b[0;36mpandas._libs.index.IndexEngine.get_loc\u001b[1;34m()\u001b[0m\n",
      "\u001b[1;32mpandas\\_libs\\hashtable_class_helper.pxi\u001b[0m in \u001b[0;36mpandas._libs.hashtable.PyObjectHashTable.get_item\u001b[1;34m()\u001b[0m\n",
      "\u001b[1;32mpandas\\_libs\\hashtable_class_helper.pxi\u001b[0m in \u001b[0;36mpandas._libs.hashtable.PyObjectHashTable.get_item\u001b[1;34m()\u001b[0m\n",
      "\u001b[1;31mKeyError\u001b[0m: 'flight_duration'"
     ]
    }
   ],
   "source": [
    "for c in columns_remained:\n",
    "    if 'duration' in c:\n",
    "        print(df_median.groupby('group').mean()[c])"
   ]
  },
  {
   "cell_type": "code",
   "execution_count": 311,
   "metadata": {
    "scrolled": true
   },
   "outputs": [
    {
     "data": {
      "text/html": [
       "<div>\n",
       "<style scoped>\n",
       "    .dataframe tbody tr th:only-of-type {\n",
       "        vertical-align: middle;\n",
       "    }\n",
       "\n",
       "    .dataframe tbody tr th {\n",
       "        vertical-align: top;\n",
       "    }\n",
       "\n",
       "    .dataframe thead th {\n",
       "        text-align: right;\n",
       "    }\n",
       "</style>\n",
       "<table border=\"1\" class=\"dataframe\">\n",
       "  <thead>\n",
       "    <tr style=\"text-align: right;\">\n",
       "      <th></th>\n",
       "      <th>duration_descent</th>\n",
       "      <th>avg_speed_descent</th>\n",
       "      <th>std_speed_descent</th>\n",
       "      <th>avg_vertrate_speed_descent</th>\n",
       "      <th>std_vertrate_speed_descent</th>\n",
       "      <th>max_spd_descent</th>\n",
       "      <th>min_spd_descent</th>\n",
       "      <th>max_vertrate_speed_descent</th>\n",
       "      <th>min_vertrate_speed_descent</th>\n",
       "      <th>duration_cruise</th>\n",
       "      <th>...</th>\n",
       "      <th>std_altitude_cruise</th>\n",
       "      <th>duration_climb</th>\n",
       "      <th>avg_speed_climb</th>\n",
       "      <th>std_speed_climb</th>\n",
       "      <th>avg_vertrate_speed_climb</th>\n",
       "      <th>std_vertrate_speed_climb</th>\n",
       "      <th>max_spd_climb</th>\n",
       "      <th>min_spd_climb</th>\n",
       "      <th>max_vertrate_speed_climb</th>\n",
       "      <th>min_vertrate_speed_climb</th>\n",
       "    </tr>\n",
       "    <tr>\n",
       "      <th>group</th>\n",
       "      <th></th>\n",
       "      <th></th>\n",
       "      <th></th>\n",
       "      <th></th>\n",
       "      <th></th>\n",
       "      <th></th>\n",
       "      <th></th>\n",
       "      <th></th>\n",
       "      <th></th>\n",
       "      <th></th>\n",
       "      <th></th>\n",
       "      <th></th>\n",
       "      <th></th>\n",
       "      <th></th>\n",
       "      <th></th>\n",
       "      <th></th>\n",
       "      <th></th>\n",
       "      <th></th>\n",
       "      <th></th>\n",
       "      <th></th>\n",
       "      <th></th>\n",
       "    </tr>\n",
       "  </thead>\n",
       "  <tbody>\n",
       "    <tr>\n",
       "      <th>1</th>\n",
       "      <td>1603.750000</td>\n",
       "      <td>157.918089</td>\n",
       "      <td>53.891520</td>\n",
       "      <td>-6.915972</td>\n",
       "      <td>3.751047</td>\n",
       "      <td>230.184750</td>\n",
       "      <td>67.360250</td>\n",
       "      <td>0.000000</td>\n",
       "      <td>-16.055250</td>\n",
       "      <td>1921.725000</td>\n",
       "      <td>...</td>\n",
       "      <td>9.620953</td>\n",
       "      <td>1157.825000</td>\n",
       "      <td>193.458572</td>\n",
       "      <td>42.883995</td>\n",
       "      <td>9.150162</td>\n",
       "      <td>4.151014</td>\n",
       "      <td>236.396500</td>\n",
       "      <td>80.759500</td>\n",
       "      <td>19.508000</td>\n",
       "      <td>0.58000</td>\n",
       "    </tr>\n",
       "    <tr>\n",
       "      <th>2</th>\n",
       "      <td>1647.404255</td>\n",
       "      <td>156.630314</td>\n",
       "      <td>54.120786</td>\n",
       "      <td>-6.798398</td>\n",
       "      <td>3.646288</td>\n",
       "      <td>230.852979</td>\n",
       "      <td>67.004043</td>\n",
       "      <td>-0.007021</td>\n",
       "      <td>-15.538404</td>\n",
       "      <td>1944.170213</td>\n",
       "      <td>...</td>\n",
       "      <td>7.463785</td>\n",
       "      <td>1169.521277</td>\n",
       "      <td>193.976174</td>\n",
       "      <td>42.487514</td>\n",
       "      <td>8.982844</td>\n",
       "      <td>4.090034</td>\n",
       "      <td>236.169043</td>\n",
       "      <td>80.459894</td>\n",
       "      <td>19.341277</td>\n",
       "      <td>0.61117</td>\n",
       "    </tr>\n",
       "  </tbody>\n",
       "</table>\n",
       "<p>2 rows × 29 columns</p>\n",
       "</div>"
      ],
      "text/plain": [
       "       duration_descent  avg_speed_descent  std_speed_descent  \\\n",
       "group                                                           \n",
       "1           1603.750000         157.918089          53.891520   \n",
       "2           1647.404255         156.630314          54.120786   \n",
       "\n",
       "       avg_vertrate_speed_descent  std_vertrate_speed_descent  \\\n",
       "group                                                           \n",
       "1                       -6.915972                    3.751047   \n",
       "2                       -6.798398                    3.646288   \n",
       "\n",
       "       max_spd_descent  min_spd_descent  max_vertrate_speed_descent  \\\n",
       "group                                                                 \n",
       "1           230.184750        67.360250                    0.000000   \n",
       "2           230.852979        67.004043                   -0.007021   \n",
       "\n",
       "       min_vertrate_speed_descent  duration_cruise  ...  std_altitude_cruise  \\\n",
       "group                                               ...                        \n",
       "1                      -16.055250      1921.725000  ...             9.620953   \n",
       "2                      -15.538404      1944.170213  ...             7.463785   \n",
       "\n",
       "       duration_climb  avg_speed_climb  std_speed_climb  \\\n",
       "group                                                     \n",
       "1         1157.825000       193.458572        42.883995   \n",
       "2         1169.521277       193.976174        42.487514   \n",
       "\n",
       "       avg_vertrate_speed_climb  std_vertrate_speed_climb  max_spd_climb  \\\n",
       "group                                                                      \n",
       "1                      9.150162                  4.151014     236.396500   \n",
       "2                      8.982844                  4.090034     236.169043   \n",
       "\n",
       "       min_spd_climb  max_vertrate_speed_climb  min_vertrate_speed_climb  \n",
       "group                                                                     \n",
       "1          80.759500                 19.508000                   0.58000  \n",
       "2          80.459894                 19.341277                   0.61117  \n",
       "\n",
       "[2 rows x 29 columns]"
      ]
     },
     "execution_count": 311,
     "metadata": {},
     "output_type": "execute_result"
    }
   ],
   "source": [
    "df_median.groupby('group').mean()#[avgcol]"
   ]
  },
  {
   "cell_type": "code",
   "execution_count": 312,
   "metadata": {},
   "outputs": [
    {
     "data": {
      "text/html": [
       "<div>\n",
       "<style scoped>\n",
       "    .dataframe tbody tr th:only-of-type {\n",
       "        vertical-align: middle;\n",
       "    }\n",
       "\n",
       "    .dataframe tbody tr th {\n",
       "        vertical-align: top;\n",
       "    }\n",
       "\n",
       "    .dataframe thead th {\n",
       "        text-align: right;\n",
       "    }\n",
       "</style>\n",
       "<table border=\"1\" class=\"dataframe\">\n",
       "  <thead>\n",
       "    <tr style=\"text-align: right;\">\n",
       "      <th></th>\n",
       "      <th>duration_descent</th>\n",
       "      <th>avg_speed_descent</th>\n",
       "      <th>std_speed_descent</th>\n",
       "      <th>avg_vertrate_speed_descent</th>\n",
       "      <th>std_vertrate_speed_descent</th>\n",
       "      <th>max_spd_descent</th>\n",
       "      <th>min_spd_descent</th>\n",
       "      <th>max_vertrate_speed_descent</th>\n",
       "      <th>min_vertrate_speed_descent</th>\n",
       "      <th>duration_cruise</th>\n",
       "      <th>...</th>\n",
       "      <th>std_altitude_cruise</th>\n",
       "      <th>duration_climb</th>\n",
       "      <th>avg_speed_climb</th>\n",
       "      <th>std_speed_climb</th>\n",
       "      <th>avg_vertrate_speed_climb</th>\n",
       "      <th>std_vertrate_speed_climb</th>\n",
       "      <th>max_spd_climb</th>\n",
       "      <th>min_spd_climb</th>\n",
       "      <th>max_vertrate_speed_climb</th>\n",
       "      <th>min_vertrate_speed_climb</th>\n",
       "    </tr>\n",
       "    <tr>\n",
       "      <th>group</th>\n",
       "      <th></th>\n",
       "      <th></th>\n",
       "      <th></th>\n",
       "      <th></th>\n",
       "      <th></th>\n",
       "      <th></th>\n",
       "      <th></th>\n",
       "      <th></th>\n",
       "      <th></th>\n",
       "      <th></th>\n",
       "      <th></th>\n",
       "      <th></th>\n",
       "      <th></th>\n",
       "      <th></th>\n",
       "      <th></th>\n",
       "      <th></th>\n",
       "      <th></th>\n",
       "      <th></th>\n",
       "      <th></th>\n",
       "      <th></th>\n",
       "      <th></th>\n",
       "    </tr>\n",
       "  </thead>\n",
       "  <tbody>\n",
       "    <tr>\n",
       "      <th>1</th>\n",
       "      <td>1603.750000</td>\n",
       "      <td>157.918089</td>\n",
       "      <td>53.891520</td>\n",
       "      <td>-6.915972</td>\n",
       "      <td>3.751047</td>\n",
       "      <td>230.184750</td>\n",
       "      <td>67.360250</td>\n",
       "      <td>0.000000</td>\n",
       "      <td>-16.055250</td>\n",
       "      <td>1921.725000</td>\n",
       "      <td>...</td>\n",
       "      <td>9.620953</td>\n",
       "      <td>1157.825000</td>\n",
       "      <td>193.458572</td>\n",
       "      <td>42.883995</td>\n",
       "      <td>9.150162</td>\n",
       "      <td>4.151014</td>\n",
       "      <td>236.396500</td>\n",
       "      <td>80.759500</td>\n",
       "      <td>19.508000</td>\n",
       "      <td>0.58000</td>\n",
       "    </tr>\n",
       "    <tr>\n",
       "      <th>2</th>\n",
       "      <td>1647.404255</td>\n",
       "      <td>156.630314</td>\n",
       "      <td>54.120786</td>\n",
       "      <td>-6.798398</td>\n",
       "      <td>3.646288</td>\n",
       "      <td>230.852979</td>\n",
       "      <td>67.004043</td>\n",
       "      <td>-0.007021</td>\n",
       "      <td>-15.538404</td>\n",
       "      <td>1944.170213</td>\n",
       "      <td>...</td>\n",
       "      <td>7.463785</td>\n",
       "      <td>1169.521277</td>\n",
       "      <td>193.976174</td>\n",
       "      <td>42.487514</td>\n",
       "      <td>8.982844</td>\n",
       "      <td>4.090034</td>\n",
       "      <td>236.169043</td>\n",
       "      <td>80.459894</td>\n",
       "      <td>19.341277</td>\n",
       "      <td>0.61117</td>\n",
       "    </tr>\n",
       "  </tbody>\n",
       "</table>\n",
       "<p>2 rows × 29 columns</p>\n",
       "</div>"
      ],
      "text/plain": [
       "       duration_descent  avg_speed_descent  std_speed_descent  \\\n",
       "group                                                           \n",
       "1           1603.750000         157.918089          53.891520   \n",
       "2           1647.404255         156.630314          54.120786   \n",
       "\n",
       "       avg_vertrate_speed_descent  std_vertrate_speed_descent  \\\n",
       "group                                                           \n",
       "1                       -6.915972                    3.751047   \n",
       "2                       -6.798398                    3.646288   \n",
       "\n",
       "       max_spd_descent  min_spd_descent  max_vertrate_speed_descent  \\\n",
       "group                                                                 \n",
       "1           230.184750        67.360250                    0.000000   \n",
       "2           230.852979        67.004043                   -0.007021   \n",
       "\n",
       "       min_vertrate_speed_descent  duration_cruise  ...  std_altitude_cruise  \\\n",
       "group                                               ...                        \n",
       "1                      -16.055250      1921.725000  ...             9.620953   \n",
       "2                      -15.538404      1944.170213  ...             7.463785   \n",
       "\n",
       "       duration_climb  avg_speed_climb  std_speed_climb  \\\n",
       "group                                                     \n",
       "1         1157.825000       193.458572        42.883995   \n",
       "2         1169.521277       193.976174        42.487514   \n",
       "\n",
       "       avg_vertrate_speed_climb  std_vertrate_speed_climb  max_spd_climb  \\\n",
       "group                                                                      \n",
       "1                      9.150162                  4.151014     236.396500   \n",
       "2                      8.982844                  4.090034     236.169043   \n",
       "\n",
       "       min_spd_climb  max_vertrate_speed_climb  min_vertrate_speed_climb  \n",
       "group                                                                     \n",
       "1          80.759500                 19.508000                   0.58000  \n",
       "2          80.459894                 19.341277                   0.61117  \n",
       "\n",
       "[2 rows x 29 columns]"
      ]
     },
     "execution_count": 312,
     "metadata": {},
     "output_type": "execute_result"
    }
   ],
   "source": [
    "df_median.groupby('group').mean()"
   ]
  },
  {
   "cell_type": "code",
   "execution_count": 318,
   "metadata": {},
   "outputs": [
    {
     "data": {
      "text/html": [
       "<div>\n",
       "<style scoped>\n",
       "    .dataframe tbody tr th:only-of-type {\n",
       "        vertical-align: middle;\n",
       "    }\n",
       "\n",
       "    .dataframe tbody tr th {\n",
       "        vertical-align: top;\n",
       "    }\n",
       "\n",
       "    .dataframe thead th {\n",
       "        text-align: right;\n",
       "    }\n",
       "</style>\n",
       "<table border=\"1\" class=\"dataframe\">\n",
       "  <thead>\n",
       "    <tr style=\"text-align: right;\">\n",
       "      <th></th>\n",
       "      <th>avg_speed_descent</th>\n",
       "      <th>std_speed_descent</th>\n",
       "      <th>max_spd_descent</th>\n",
       "      <th>avg_speed_cruise</th>\n",
       "      <th>std_speed_cruise</th>\n",
       "      <th>min_spd_cruise</th>\n",
       "      <th>min_vertrate_speed_cruise</th>\n",
       "      <th>max_spd_climb</th>\n",
       "    </tr>\n",
       "    <tr>\n",
       "      <th>group</th>\n",
       "      <th></th>\n",
       "      <th></th>\n",
       "      <th></th>\n",
       "      <th></th>\n",
       "      <th></th>\n",
       "      <th></th>\n",
       "      <th></th>\n",
       "      <th></th>\n",
       "    </tr>\n",
       "  </thead>\n",
       "  <tbody>\n",
       "    <tr>\n",
       "      <th>1</th>\n",
       "      <td>NaN</td>\n",
       "      <td>NaN</td>\n",
       "      <td>NaN</td>\n",
       "      <td>NaN</td>\n",
       "      <td>NaN</td>\n",
       "      <td>NaN</td>\n",
       "      <td>NaN</td>\n",
       "      <td>NaN</td>\n",
       "    </tr>\n",
       "    <tr>\n",
       "      <th>2</th>\n",
       "      <td>-1.287776</td>\n",
       "      <td>0.229266</td>\n",
       "      <td>0.668229</td>\n",
       "      <td>2.203066</td>\n",
       "      <td>-0.010721</td>\n",
       "      <td>3.208277</td>\n",
       "      <td>-0.022638</td>\n",
       "      <td>-0.227457</td>\n",
       "    </tr>\n",
       "  </tbody>\n",
       "</table>\n",
       "</div>"
      ],
      "text/plain": [
       "       avg_speed_descent  std_speed_descent  max_spd_descent  \\\n",
       "group                                                          \n",
       "1                    NaN                NaN              NaN   \n",
       "2              -1.287776           0.229266         0.668229   \n",
       "\n",
       "       avg_speed_cruise  std_speed_cruise  min_spd_cruise  \\\n",
       "group                                                       \n",
       "1                   NaN               NaN             NaN   \n",
       "2              2.203066         -0.010721        3.208277   \n",
       "\n",
       "       min_vertrate_speed_cruise  max_spd_climb  \n",
       "group                                            \n",
       "1                            NaN            NaN  \n",
       "2                      -0.022638      -0.227457  "
      ]
     },
     "execution_count": 318,
     "metadata": {},
     "output_type": "execute_result"
    }
   ],
   "source": [
    "df_median.groupby('group').mean().diff()[abs(df_median_scaled.groupby('group').mean().diff()) > 0.1].dropna(how='all',axis=1)"
   ]
  },
  {
   "cell_type": "code",
   "execution_count": 319,
   "metadata": {
    "scrolled": true
   },
   "outputs": [
    {
     "data": {
      "text/html": [
       "<div>\n",
       "<style scoped>\n",
       "    .dataframe tbody tr th:only-of-type {\n",
       "        vertical-align: middle;\n",
       "    }\n",
       "\n",
       "    .dataframe tbody tr th {\n",
       "        vertical-align: top;\n",
       "    }\n",
       "\n",
       "    .dataframe thead th {\n",
       "        text-align: right;\n",
       "    }\n",
       "</style>\n",
       "<table border=\"1\" class=\"dataframe\">\n",
       "  <thead>\n",
       "    <tr style=\"text-align: right;\">\n",
       "      <th></th>\n",
       "      <th>airline_cat</th>\n",
       "      <th>0</th>\n",
       "    </tr>\n",
       "  </thead>\n",
       "  <tbody>\n",
       "    <tr>\n",
       "      <th>1</th>\n",
       "      <td>106</td>\n",
       "      <td>Pacific Airlines</td>\n",
       "    </tr>\n",
       "    <tr>\n",
       "      <th>1</th>\n",
       "      <td>56</td>\n",
       "      <td>China Southern Airlines</td>\n",
       "    </tr>\n",
       "    <tr>\n",
       "      <th>1</th>\n",
       "      <td>111</td>\n",
       "      <td>Qatar Airways</td>\n",
       "    </tr>\n",
       "    <tr>\n",
       "      <th>1</th>\n",
       "      <td>92</td>\n",
       "      <td>LATAM Chile</td>\n",
       "    </tr>\n",
       "    <tr>\n",
       "      <th>1</th>\n",
       "      <td>130</td>\n",
       "      <td>TAP Portugal</td>\n",
       "    </tr>\n",
       "    <tr>\n",
       "      <th>...</th>\n",
       "      <td>...</td>\n",
       "      <td>...</td>\n",
       "    </tr>\n",
       "    <tr>\n",
       "      <th>2</th>\n",
       "      <td>79</td>\n",
       "      <td>Iberia Express</td>\n",
       "    </tr>\n",
       "    <tr>\n",
       "      <th>2</th>\n",
       "      <td>80</td>\n",
       "      <td>IndiGo Airlines</td>\n",
       "    </tr>\n",
       "    <tr>\n",
       "      <th>2</th>\n",
       "      <td>81</td>\n",
       "      <td>Indonesia AirAsia</td>\n",
       "    </tr>\n",
       "    <tr>\n",
       "      <th>2</th>\n",
       "      <td>88</td>\n",
       "      <td>Jetstar Airways</td>\n",
       "    </tr>\n",
       "    <tr>\n",
       "      <th>2</th>\n",
       "      <td>161</td>\n",
       "      <td>easyJet Switzerland</td>\n",
       "    </tr>\n",
       "  </tbody>\n",
       "</table>\n",
       "<p>67 rows × 2 columns</p>\n",
       "</div>"
      ],
      "text/plain": [
       "    airline_cat                        0\n",
       "1           106         Pacific Airlines\n",
       "1            56  China Southern Airlines\n",
       "1           111            Qatar Airways\n",
       "1            92              LATAM Chile\n",
       "1           130             TAP Portugal\n",
       "..          ...                      ...\n",
       "2            79           Iberia Express\n",
       "2            80          IndiGo Airlines\n",
       "2            81        Indonesia AirAsia\n",
       "2            88          Jetstar Airways\n",
       "2           161      easyJet Switzerland\n",
       "\n",
       "[67 rows x 2 columns]"
      ]
     },
     "execution_count": 319,
     "metadata": {},
     "output_type": "execute_result"
    }
   ],
   "source": [
    "idg = np.argsort(groupes_cah)\n",
    "df1 = pandas.DataFrame(df_median.index[idg],groupes_cah[idg])\n",
    "df2 = pd.DataFrame.from_dict(airlines_decoder, orient='index')\n",
    "pd.merge(df1, df2, how = 'left', left_on = 'airline_cat', right_index = True)"
   ]
  },
  {
   "cell_type": "code",
   "execution_count": 320,
   "metadata": {},
   "outputs": [],
   "source": [
    "from sklearn.decomposition import PCA"
   ]
  },
  {
   "cell_type": "code",
   "execution_count": 362,
   "metadata": {
    "scrolled": true
   },
   "outputs": [
    {
     "data": {
      "text/plain": [
       "Text(0, 0.5, 'PCA2')"
      ]
     },
     "execution_count": 362,
     "metadata": {},
     "output_type": "execute_result"
    },
    {
     "data": {
      "image/png": "[encoded data removed]",
      "text/plain": [
       "<Figure size 432x288 with 1 Axes>"
      ]
     },
     "metadata": {
      "needs_background": "light"
     },
     "output_type": "display_data"
    }
   ],
   "source": [
    "pca = PCA(n_components=2)\n",
    "X_pca = pca.fit_transform(df_median_scaled.drop(['duration_descent','duration_cruise','duration_climb'],axis=1))\n",
    "plt.scatter(X_pca[:,0],X_pca[:,1], c=['r' if p==1 else 'b' for p in groupes_cah ])\n",
    "plt.xlabel('PCA1')\n",
    "plt.ylabel('PCA2')"
   ]
  },
  {
   "cell_type": "code",
   "execution_count": 334,
   "metadata": {},
   "outputs": [],
   "source": [
    "from sklearn.manifold import TSNE"
   ]
  },
  {
   "cell_type": "code",
   "execution_count": 338,
   "metadata": {},
   "outputs": [],
   "source": [
    "X_tSNE = TSNE(n_components=2).fit_transform(df_new_scaled.dropna())"
   ]
  },
  {
   "cell_type": "code",
   "execution_count": 339,
   "metadata": {
    "scrolled": true
   },
   "outputs": [
    {
     "data": {
      "text/plain": [
       "<matplotlib.collections.PathCollection at 0x126b18cfb80>"
      ]
     },
     "execution_count": 339,
     "metadata": {},
     "output_type": "execute_result"
    },
    {
     "data": {
      "image/png": "[encoded data removed]",
      "text/plain": [
       "<Figure size 432x288 with 1 Axes>"
      ]
     },
     "metadata": {
      "needs_background": "light"
     },
     "output_type": "display_data"
    }
   ],
   "source": [
    "plt.scatter(X_tSNE[:,0],X_tSNE[:,1])"
   ]
  },
  {
   "cell_type": "code",
   "execution_count": 322,
   "metadata": {},
   "outputs": [],
   "source": [
    "from sklearn.cluster import KMeans"
   ]
  },
  {
   "cell_type": "code",
   "execution_count": 365,
   "metadata": {},
   "outputs": [],
   "source": [
    "kmeans = KMeans(n_clusters=2).fit(df_median_scaled.drop(['duration_descent','duration_cruise','duration_climb'],axis=1))"
   ]
  },
  {
   "cell_type": "code",
   "execution_count": 367,
   "metadata": {},
   "outputs": [
    {
     "data": {
      "text/plain": [
       "array([0, 1, 0, 1, 0, 1, 0, 1, 1, 0, 0, 0, 0, 0, 0, 0, 1, 0, 0, 0, 0, 0,\n",
       "       1, 1, 0, 1, 0, 0, 1, 0, 0, 0, 0, 0, 0, 0, 0, 0, 0, 0, 1, 0, 0, 1,\n",
       "       1, 1, 1, 1, 0, 0, 0, 0, 0, 0, 1, 0, 0, 0, 1, 0, 0, 0, 0, 1, 0, 1,\n",
       "       0])"
      ]
     },
     "execution_count": 367,
     "metadata": {},
     "output_type": "execute_result"
    }
   ],
   "source": [
    "kmeans.labels_"
   ]
  },
  {
   "cell_type": "code",
   "execution_count": 368,
   "metadata": {},
   "outputs": [],
   "source": [
    "df_median['group'] = kmeans.labels_"
   ]
  },
  {
   "cell_type": "code",
   "execution_count": 369,
   "metadata": {
    "scrolled": false
   },
   "outputs": [
    {
     "data": {
      "text/html": [
       "<div>\n",
       "<style scoped>\n",
       "    .dataframe tbody tr th:only-of-type {\n",
       "        vertical-align: middle;\n",
       "    }\n",
       "\n",
       "    .dataframe tbody tr th {\n",
       "        vertical-align: top;\n",
       "    }\n",
       "\n",
       "    .dataframe thead th {\n",
       "        text-align: right;\n",
       "    }\n",
       "</style>\n",
       "<table border=\"1\" class=\"dataframe\">\n",
       "  <thead>\n",
       "    <tr style=\"text-align: right;\">\n",
       "      <th></th>\n",
       "      <th>duration_descent</th>\n",
       "      <th>avg_speed_descent</th>\n",
       "      <th>std_speed_descent</th>\n",
       "      <th>avg_vertrate_speed_descent</th>\n",
       "      <th>std_vertrate_speed_descent</th>\n",
       "      <th>max_spd_descent</th>\n",
       "      <th>min_spd_descent</th>\n",
       "      <th>max_vertrate_speed_descent</th>\n",
       "      <th>min_vertrate_speed_descent</th>\n",
       "      <th>duration_cruise</th>\n",
       "      <th>...</th>\n",
       "      <th>std_altitude_cruise</th>\n",
       "      <th>duration_climb</th>\n",
       "      <th>avg_speed_climb</th>\n",
       "      <th>std_speed_climb</th>\n",
       "      <th>avg_vertrate_speed_climb</th>\n",
       "      <th>std_vertrate_speed_climb</th>\n",
       "      <th>max_spd_climb</th>\n",
       "      <th>min_spd_climb</th>\n",
       "      <th>max_vertrate_speed_climb</th>\n",
       "      <th>min_vertrate_speed_climb</th>\n",
       "    </tr>\n",
       "    <tr>\n",
       "      <th>group</th>\n",
       "      <th></th>\n",
       "      <th></th>\n",
       "      <th></th>\n",
       "      <th></th>\n",
       "      <th></th>\n",
       "      <th></th>\n",
       "      <th></th>\n",
       "      <th></th>\n",
       "      <th></th>\n",
       "      <th></th>\n",
       "      <th></th>\n",
       "      <th></th>\n",
       "      <th></th>\n",
       "      <th></th>\n",
       "      <th></th>\n",
       "      <th></th>\n",
       "      <th></th>\n",
       "      <th></th>\n",
       "      <th></th>\n",
       "      <th></th>\n",
       "      <th></th>\n",
       "    </tr>\n",
       "  </thead>\n",
       "  <tbody>\n",
       "    <tr>\n",
       "      <th>0</th>\n",
       "      <td>1647.404255</td>\n",
       "      <td>156.630314</td>\n",
       "      <td>54.120786</td>\n",
       "      <td>-6.798398</td>\n",
       "      <td>3.646288</td>\n",
       "      <td>230.852979</td>\n",
       "      <td>67.004043</td>\n",
       "      <td>-0.007021</td>\n",
       "      <td>-15.538404</td>\n",
       "      <td>1944.170213</td>\n",
       "      <td>...</td>\n",
       "      <td>7.463785</td>\n",
       "      <td>1169.521277</td>\n",
       "      <td>193.976174</td>\n",
       "      <td>42.487514</td>\n",
       "      <td>8.982844</td>\n",
       "      <td>4.090034</td>\n",
       "      <td>236.169043</td>\n",
       "      <td>80.459894</td>\n",
       "      <td>19.341277</td>\n",
       "      <td>0.61117</td>\n",
       "    </tr>\n",
       "    <tr>\n",
       "      <th>1</th>\n",
       "      <td>1603.750000</td>\n",
       "      <td>157.918089</td>\n",
       "      <td>53.891520</td>\n",
       "      <td>-6.915972</td>\n",
       "      <td>3.751047</td>\n",
       "      <td>230.184750</td>\n",
       "      <td>67.360250</td>\n",
       "      <td>0.000000</td>\n",
       "      <td>-16.055250</td>\n",
       "      <td>1921.725000</td>\n",
       "      <td>...</td>\n",
       "      <td>9.620953</td>\n",
       "      <td>1157.825000</td>\n",
       "      <td>193.458572</td>\n",
       "      <td>42.883995</td>\n",
       "      <td>9.150162</td>\n",
       "      <td>4.151014</td>\n",
       "      <td>236.396500</td>\n",
       "      <td>80.759500</td>\n",
       "      <td>19.508000</td>\n",
       "      <td>0.58000</td>\n",
       "    </tr>\n",
       "  </tbody>\n",
       "</table>\n",
       "<p>2 rows × 29 columns</p>\n",
       "</div>"
      ],
      "text/plain": [
       "       duration_descent  avg_speed_descent  std_speed_descent  \\\n",
       "group                                                           \n",
       "0           1647.404255         156.630314          54.120786   \n",
       "1           1603.750000         157.918089          53.891520   \n",
       "\n",
       "       avg_vertrate_speed_descent  std_vertrate_speed_descent  \\\n",
       "group                                                           \n",
       "0                       -6.798398                    3.646288   \n",
       "1                       -6.915972                    3.751047   \n",
       "\n",
       "       max_spd_descent  min_spd_descent  max_vertrate_speed_descent  \\\n",
       "group                                                                 \n",
       "0           230.852979        67.004043                   -0.007021   \n",
       "1           230.184750        67.360250                    0.000000   \n",
       "\n",
       "       min_vertrate_speed_descent  duration_cruise  ...  std_altitude_cruise  \\\n",
       "group                                               ...                        \n",
       "0                      -15.538404      1944.170213  ...             7.463785   \n",
       "1                      -16.055250      1921.725000  ...             9.620953   \n",
       "\n",
       "       duration_climb  avg_speed_climb  std_speed_climb  \\\n",
       "group                                                     \n",
       "0         1169.521277       193.976174        42.487514   \n",
       "1         1157.825000       193.458572        42.883995   \n",
       "\n",
       "       avg_vertrate_speed_climb  std_vertrate_speed_climb  max_spd_climb  \\\n",
       "group                                                                      \n",
       "0                      8.982844                  4.090034     236.169043   \n",
       "1                      9.150162                  4.151014     236.396500   \n",
       "\n",
       "       min_spd_climb  max_vertrate_speed_climb  min_vertrate_speed_climb  \n",
       "group                                                                     \n",
       "0          80.459894                 19.341277                   0.61117  \n",
       "1          80.759500                 19.508000                   0.58000  \n",
       "\n",
       "[2 rows x 29 columns]"
      ]
     },
     "execution_count": 369,
     "metadata": {},
     "output_type": "execute_result"
    }
   ],
   "source": [
    "df_median.groupby('group').mean()"
   ]
  },
  {
   "cell_type": "code",
   "execution_count": 370,
   "metadata": {},
   "outputs": [
    {
     "data": {
      "text/html": [
       "<div>\n",
       "<style scoped>\n",
       "    .dataframe tbody tr th:only-of-type {\n",
       "        vertical-align: middle;\n",
       "    }\n",
       "\n",
       "    .dataframe tbody tr th {\n",
       "        vertical-align: top;\n",
       "    }\n",
       "\n",
       "    .dataframe thead th {\n",
       "        text-align: right;\n",
       "    }\n",
       "</style>\n",
       "<table border=\"1\" class=\"dataframe\">\n",
       "  <thead>\n",
       "    <tr style=\"text-align: right;\">\n",
       "      <th></th>\n",
       "      <th>airline_cat</th>\n",
       "      <th>0</th>\n",
       "    </tr>\n",
       "  </thead>\n",
       "  <tbody>\n",
       "    <tr>\n",
       "      <th>0</th>\n",
       "      <td>-1</td>\n",
       "      <td>NaN</td>\n",
       "    </tr>\n",
       "    <tr>\n",
       "      <th>0</th>\n",
       "      <td>74</td>\n",
       "      <td>GoAir</td>\n",
       "    </tr>\n",
       "    <tr>\n",
       "      <th>0</th>\n",
       "      <td>75</td>\n",
       "      <td>Gulf Air</td>\n",
       "    </tr>\n",
       "    <tr>\n",
       "      <th>0</th>\n",
       "      <td>79</td>\n",
       "      <td>Iberia Express</td>\n",
       "    </tr>\n",
       "    <tr>\n",
       "      <th>0</th>\n",
       "      <td>80</td>\n",
       "      <td>IndiGo Airlines</td>\n",
       "    </tr>\n",
       "    <tr>\n",
       "      <th>...</th>\n",
       "      <td>...</td>\n",
       "      <td>...</td>\n",
       "    </tr>\n",
       "    <tr>\n",
       "      <th>1</th>\n",
       "      <td>160</td>\n",
       "      <td>easyJet Europe</td>\n",
       "    </tr>\n",
       "    <tr>\n",
       "      <th>1</th>\n",
       "      <td>48</td>\n",
       "      <td>British Airways Shuttle</td>\n",
       "    </tr>\n",
       "    <tr>\n",
       "      <th>1</th>\n",
       "      <td>56</td>\n",
       "      <td>China Southern Airlines</td>\n",
       "    </tr>\n",
       "    <tr>\n",
       "      <th>1</th>\n",
       "      <td>130</td>\n",
       "      <td>TAP Portugal</td>\n",
       "    </tr>\n",
       "    <tr>\n",
       "      <th>1</th>\n",
       "      <td>111</td>\n",
       "      <td>Qatar Airways</td>\n",
       "    </tr>\n",
       "  </tbody>\n",
       "</table>\n",
       "<p>67 rows × 2 columns</p>\n",
       "</div>"
      ],
      "text/plain": [
       "    airline_cat                        0\n",
       "0            -1                      NaN\n",
       "0            74                    GoAir\n",
       "0            75                 Gulf Air\n",
       "0            79           Iberia Express\n",
       "0            80          IndiGo Airlines\n",
       "..          ...                      ...\n",
       "1           160           easyJet Europe\n",
       "1            48  British Airways Shuttle\n",
       "1            56  China Southern Airlines\n",
       "1           130             TAP Portugal\n",
       "1           111            Qatar Airways\n",
       "\n",
       "[67 rows x 2 columns]"
      ]
     },
     "execution_count": 370,
     "metadata": {},
     "output_type": "execute_result"
    }
   ],
   "source": [
    "idg = np.argsort(kmeans.labels_)\n",
    "df1 = pandas.DataFrame(df_median.index[idg],kmeans.labels_[idg])\n",
    "df2 = pd.DataFrame.from_dict(airlines_decoder, orient='index')\n",
    "pd.merge(df1, df2, how = 'left', left_on = 'airline_cat', right_index = True)"
   ]
  },
  {
   "cell_type": "code",
   "execution_count": 351,
   "metadata": {
    "scrolled": true
   },
   "outputs": [
    {
     "data": {
      "text/plain": [
       "[<matplotlib.lines.Line2D at 0x126b68e8df0>]"
      ]
     },
     "execution_count": 351,
     "metadata": {},
     "output_type": "execute_result"
    },
    {
     "data": {
      "image/png": "[encoded data removed]",
      "text/plain": [
       "<Figure size 432x288 with 1 Axes>"
      ]
     },
     "metadata": {
      "needs_background": "light"
     },
     "output_type": "display_data"
    }
   ],
   "source": [
    "inertias=[]\n",
    "for k in range(1,10):\n",
    "    kmeans = KMeans(n_clusters=k).fit(df_median_scaled.drop(['duration_descent','duration_cruise','duration_climb'], axis=1))\n",
    "    inertias.append(kmeans.inertia_)\n",
    "plt.plot(range(1,10),inertias)"
   ]
  },
  {
   "cell_type": "code",
   "execution_count": 145,
   "metadata": {},
   "outputs": [],
   "source": [
    "from scipy.spatial.distance import jensenshannon"
   ]
  },
  {
   "cell_type": "code",
   "execution_count": 314,
   "metadata": {},
   "outputs": [],
   "source": [
    "def dist_hist(hists1,hists2,distance = jensenshannon):\n",
    "    nf = hists1.shape[1]\n",
    "\n",
    "    d = 0\n",
    "    for i in range(nf):\n",
    "        d += distance(hists1[:,i],hists2[:,i])**2\n",
    "    return np.sqrt(d)"
   ]
  },
  {
   "cell_type": "code",
   "execution_count": 347,
   "metadata": {},
   "outputs": [],
   "source": [
    "class K_Means:\n",
    "    def __init__(self, k=3, max_iter=300):\n",
    "        self.k = k\n",
    "        self.max_iter = max_iter\n",
    "\n",
    "    def fit(self,data):\n",
    "        self.centroids = {}\n",
    "        \n",
    "        for i in range(self.k):\n",
    "            self.centroids[i] = np.random.rand(*data[0].shape)\n",
    "            \n",
    "        for i in range(self.max_iter):\n",
    "            self.classifications = {}\n",
    "\n",
    "            for i in range(self.k):\n",
    "                self.classifications[i] = []\n",
    "                \n",
    "            for featureset in data:\n",
    "                distances = [dist_hist(featureset,self.centroids[centroid]) for centroid in self.centroids]\n",
    "                classification = distances.index(min(distances))\n",
    "                self.classifications[classification].append(featureset)\n",
    "\n",
    "            prev_centroids = dict(self.centroids)\n",
    "\n",
    "            for classification in self.classifications:\n",
    "                if self.classifications[classification] == []:\n",
    "                    self.fit(data)\n",
    "                self.centroids[classification] = np.mean(self.classifications[classification],axis=0)\n",
    "                # self.centroids[classification] = self.centroids[classification]/np.sum(self.centroids[classification],axis=0)\n",
    "\n",
    "            optimized = True\n",
    "            \n",
    "            \n",
    "            for c in self.centroids:\n",
    "                original_centroid = prev_centroids[c]\n",
    "                current_centroid = self.centroids[c]\n",
    "                if np.array_equal(current_centroid,original_centroid) is False:\n",
    "                    optimized = False\n",
    "\n",
    "            if optimized:\n",
    "                break\n",
    "\n",
    "    def predict(self,datas):\n",
    "        classif = []\n",
    "        for data in datas:\n",
    "            distances = [dist_hist(data,self.centroids[centroid]) for centroid in self.centroids]\n",
    "            classif.append(distances.index(min(distances)))\n",
    "        return classif\n",
    "    \n",
    "    def wss(self,datas):\n",
    "        wss = 0\n",
    "        for data in datas:\n",
    "            distances = [dist_hist(data,self.centroids[centroid]) for centroid in self.centroids]\n",
    "            wss += min(distances)\n",
    "        return wss"
   ]
  },
  {
   "cell_type": "code",
   "execution_count": 157,
   "metadata": {},
   "outputs": [],
   "source": [
    "df_new.drop('group',axis=1, inplace=True)"
   ]
  },
  {
   "cell_type": "code",
   "execution_count": 158,
   "metadata": {},
   "outputs": [],
   "source": [
    "df_new_scaled = pd.DataFrame(data = preprocessing.QuantileTransformer().fit_transform(df_new), columns = columns_remained)\n",
    "df_new_scaled_cat = pd.merge(df_new_scaled, y, how = 'left', left_index = True, right_on = 'flight_id')"
   ]
  },
  {
   "cell_type": "code",
   "execution_count": 159,
   "metadata": {},
   "outputs": [],
   "source": [
    "X_hist = []\n",
    "n=10\n",
    "airline_cats = df_new_cat['airline_cat'].unique()\n",
    "for cat in airline_cats:\n",
    "    cat_df = df_new_scaled_cat[df_new_scaled_cat['airline_cat']==cat]\n",
    "    cat_df = cat_df.drop(['flight_id','airline_cat'],axis=1)\n",
    "    hist = np.zeros((n,cat_df.shape[1]))\n",
    "    i=0\n",
    "    for col in cat_df:\n",
    "        hist[:,i] = np.histogram(cat_df[col],bins=10,range=(0,1),density=True)[0]\n",
    "        i+=1\n",
    "    X_hist.append(hist)"
   ]
  },
  {
   "cell_type": "code",
   "execution_count": 387,
   "metadata": {},
   "outputs": [
    {
     "name": "stdout",
     "output_type": "stream",
     "text": [
      "34.761692135982365\n"
     ]
    }
   ],
   "source": [
    "wss_min = np.inf\n",
    "lab = []\n",
    "for i in range(1000):\n",
    "    k = K_Means(k=2)\n",
    "    k.fit(X_hist)\n",
    "    wss = k.wss(X_hist)\n",
    "    if wss < wss_min:\n",
    "        wss_min = wss\n",
    "        lab = k.predict(X_hist)\n",
    "        \n",
    "print(wss_min)"
   ]
  },
  {
   "cell_type": "code",
   "execution_count": 388,
   "metadata": {},
   "outputs": [
    {
     "data": {
      "text/plain": [
       "[1,\n",
       " 1,\n",
       " 1,\n",
       " 1,\n",
       " 1,\n",
       " 1,\n",
       " 1,\n",
       " 1,\n",
       " 1,\n",
       " 1,\n",
       " 1,\n",
       " 1,\n",
       " 1,\n",
       " 1,\n",
       " 1,\n",
       " 1,\n",
       " 1,\n",
       " 1,\n",
       " 1,\n",
       " 1,\n",
       " 1,\n",
       " 1,\n",
       " 1,\n",
       " 1,\n",
       " 0,\n",
       " 1,\n",
       " 1]"
      ]
     },
     "execution_count": 388,
     "metadata": {},
     "output_type": "execute_result"
    }
   ],
   "source": [
    "lab"
   ]
  },
  {
   "cell_type": "code",
   "execution_count": 353,
   "metadata": {},
   "outputs": [
    {
     "name": "stdout",
     "output_type": "stream",
     "text": [
      "1\n",
      "2\n",
      "3\n",
      "4\n",
      "5\n",
      "6\n"
     ]
    },
    {
     "data": {
      "text/plain": [
       "[<matplotlib.lines.Line2D at 0x228fe6c8d00>]"
      ]
     },
     "execution_count": 353,
     "metadata": {},
     "output_type": "execute_result"
    },
    {
     "data": {
      "image/png": "[encoded data removed]",
      "text/plain": [
       "<Figure size 432x288 with 1 Axes>"
      ]
     },
     "metadata": {
      "needs_background": "light"
     },
     "output_type": "display_data"
    }
   ],
   "source": [
    "inertias=[]\n",
    "for k in range(1,7):\n",
    "    print(k)\n",
    "    wss = []\n",
    "    for i in range(100):\n",
    "        kmeans = K_Means(k=k)\n",
    "        kmeans.fit(X_hist)\n",
    "        wss.append(kmeans.wss(X_hist))\n",
    "    inertias.append(min(wss))\n",
    "plt.plot(range(1,7),inertias)"
   ]
  },
  {
   "cell_type": "code",
   "execution_count": null,
   "metadata": {},
   "outputs": [],
   "source": []
  }
 ],
 "metadata": {
  "kernelspec": {
   "display_name": "Python 3",
   "language": "python",
   "name": "python3"
  },
  "language_info": {
   "codemirror_mode": {
    "name": "ipython",
    "version": 3
   },
   "file_extension": ".py",
   "mimetype": "text/x-python",
   "name": "python",
   "nbconvert_exporter": "python",
   "pygments_lexer": "ipython3",
   "version": "3.8.3"
  }
 },
 "nbformat": 4,
 "nbformat_minor": 4
}
